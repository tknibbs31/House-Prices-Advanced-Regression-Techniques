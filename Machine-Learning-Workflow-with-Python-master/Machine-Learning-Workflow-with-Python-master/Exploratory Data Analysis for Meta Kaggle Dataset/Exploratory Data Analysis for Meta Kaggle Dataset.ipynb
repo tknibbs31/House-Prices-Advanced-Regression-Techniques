{
  "cells": [
    {
      "metadata": {
        "_uuid": "a8f9622945156d6337ba73c481da2de7efef7384"
      },
      "cell_type": "markdown",
      "source": "## <div style=\"text-align: center\">Exploratory Data Analysis for Meta Kaggle Dataset </div>\n\n<div style=\"text-align: center\">There are plenty of <b>Kernels</b> that can help you learn EDA from scratch but here in <b>Kaggle</b>, I want to Analysis <font color=\"red\"><b>Meta Kaggle</b></font>  a popular  Dataset as a comprehensive workflow for <b>EDA</b>. \nAfter reading, you can use it  to Analysis other real dataset and use it as a template to deal with <b>EDA</b> problems.</div>\n<div style=\"text-align:center\">last update: <b>10/21/2018</b></div>\n\n\n\n>###### you may  be interested have a look at it: [**10-steps-to-become-a-data-scientist**](https://github.com/mjbahmani/10-steps-to-become-a-data-scientist)\n\n\n---------------------------------------------------------------------\nyou can Fork and Run this kernel on Github:\n> ###### [ GitHub](https://github.com/mjbahmani/Machine-Learning-Workflow-with-Python)\n\n-------------------------------------------------------------------------------------------------------------\n **I hope you find this kernel helpful and some <font color=\"red\"><b>UPVOTES</b></font> would be very much appreciated**\n \n -----------"
    },
    {
      "metadata": {
        "_uuid": "cda11210a88d6484112cbe2c3624225328326c6a"
      },
      "cell_type": "markdown",
      "source": "## Notebook  Content\n*   1-  [Introduction](#1)\n*   2- [Loading Packages](#15)\n*   3- [Exploratory data analysis](#16)\n*       3-1 [Data Collection](#17)\n*       3-2 [Visualization](#18)\n*           3-2-1 [Scatter plot](#19)\n*           3-2-2 [Box](#20)\n*           3-2-3 [Histogram](#21)\n*           3-2-4 [Multivariate Plots](#22)\n*           3-2-5 [Violinplots](#23)\n*           3-2-6 [Pair plot](#24)\n*           3-2-7 [Kde plot](#25)\n*           3-2-8 [Joint plot](#26)\n*           3-2-9 [Andrews curves](#27)\n*           3-2-10 [Heatmap](#28)\n*           3-2-11 [Radviz](#29)"
    },
    {
      "metadata": {
        "_uuid": "750903cc2679d39058f56df6c6c040be02b748df"
      },
      "cell_type": "markdown",
      "source": " <a id=\"1\"></a> <br>\n## 1- Introduction\nThis is a **comprehensive EDA techniques with python** , that I have spent a lot of time to complete it.\n\nit is clear that everyone in this community is familiar with Kaggle but if you need to review your information about the dataset please visit this [link](https://www.kaggle.com/c/titanic/data).\n\nI am open to getting your feedback for improving this **kernel**\n"
    },
    {
      "metadata": {
        "_uuid": "fbedcae8843986c2139f18dad4b5f313e6535ac5"
      },
      "cell_type": "markdown",
      "source": "<a id=\"15\"></a> <br>\n## 2- Loading Packages\nIn this kernel we are using the following packages:"
    },
    {
      "metadata": {
        "_uuid": "61f49281fdd8592b44c0867225f57e6fce36342c"
      },
      "cell_type": "markdown",
      "source": " <img src=\"http://s8.picofile.com/file/8338227868/packages.png\">\n Now we import all of them "
    },
    {
      "metadata": {
        "_cell_guid": "b1076dfc-b9ad-4769-8c92-a6c4dae69d19",
        "_uuid": "8f2839f25d086af736a60e9eeb907d3b93b6e0e5",
        "trusted": true
      },
      "cell_type": "code",
      "source": "# packages to load \n# Check the versions of libraries\n# Python version\nimport warnings\nwarnings.filterwarnings('ignore')\nimport sys\nprint('Python: {}'.format(sys.version))\n# scipy\nimport scipy\nprint('scipy: {}'.format(scipy.__version__))\nimport numpy\n# matplotlib\nimport matplotlib\nprint('matplotlib: {}'.format(matplotlib.__version__))\n# numpy\nimport numpy as np # linear algebra\nprint('numpy: {}'.format(np.__version__))\n# pandas\nimport pandas as pd # data processing, CSV file I/O (e.g. pd.read_csv)\nprint('pandas: {}'.format(pd.__version__))\nimport seaborn as sns\nprint('seaborn: {}'.format(sns.__version__))\nsns.set(color_codes=True)\nimport matplotlib.pyplot as plt\nprint('matplotlib: {}'.format(matplotlib.__version__))\n%matplotlib inline\n# scikit-learn\nimport sklearn\nprint('sklearn: {}'.format(sklearn.__version__))\n# Input data files are available in the \"../input/\" directory.\nimport os\n%matplotlib inline",
      "execution_count": null,
      "outputs": []
    },
    {
      "metadata": {
        "_uuid": "04ff1a533119d589baee777c21194a951168b0c7"
      },
      "cell_type": "markdown",
      "source": "<a id=\"16\"></a> <br>\n## 3- Exploratory Data Analysis(EDA)\n In this section, you'll learn how to use graphical and numerical techniques to begin uncovering the structure of your data. \n \n* Which variables suggest interesting relationships?\n* Which observations are unusual?\n\nBy the end of the section, you'll be able to answer these questions and more, while generating graphics that are both insightful and beautiful.  then We will review analytical and statistical operations:\n\n*   5-1 Data Collection\n*   5-2 Visualization\n*   5-3 Data Preprocessing\n*   5-4 Data Cleaning\n<img src=\"http://s9.picofile.com/file/8338476134/EDA.png\">"
    },
    {
      "metadata": {
        "_uuid": "cedecea930b278f86292367cc28d2996a235a169"
      },
      "cell_type": "markdown",
      "source": "<a id=\"17\"></a> <br>\n## 3-1 Data Collection\n**Data collection** is the process of gathering and measuring data, information or any variables of interest in a standardized and established manner that enables the collector to answer or test hypothesis and evaluate outcomes of the particular collection.[techopedia]\n"
    },
    {
      "metadata": {
        "_uuid": "9269ae851b744856bce56840637030a16a5877e1",
        "trusted": true
      },
      "cell_type": "code",
      "source": "# import kernels and users to play with it\nusers = pd.read_csv(\"../input/Users.csv\")\nkernels = pd.read_csv(\"../input/Kernels.csv\")",
      "execution_count": null,
      "outputs": []
    },
    {
      "metadata": {
        "_uuid": "58ed9c838069f54de5cf90b20a774c3e236149b3"
      },
      "cell_type": "markdown",
      "source": "**<< Note 1 >>**\n\n* Each row is an observation (also known as : sample, example, instance, record)\n* Each column is a feature (also known as: Predictor, attribute, Independent Variable, input, regressor, Covariate)"
    },
    {
      "metadata": {
        "_uuid": "7b5fd1034cd591ebd29fba1c77d342ec2b408d13"
      },
      "cell_type": "markdown",
      "source": "# Please **replace** your username and find your userid\n\nwe suppose that userid==authoruserid and use userid for both kernels and users dataset"
    },
    {
      "metadata": {
        "_uuid": "edd043f8feb76cfe51b79785302ca4936ceb7b51",
        "trusted": true
      },
      "cell_type": "code",
      "source": "username=\"mjbahmani\"\nuserid=int(users[users['UserName']==\"mjbahmani\"].Id)\nuserid",
      "execution_count": null,
      "outputs": []
    },
    {
      "metadata": {
        "_uuid": "4b45251be7be77333051fe738639104ae1005fa5",
        "trusted": true
      },
      "cell_type": "code",
      "source": "# shape\nprint(users.shape)",
      "execution_count": null,
      "outputs": []
    },
    {
      "metadata": {
        "_uuid": "4b45251be7be77333051fe738639104ae1005fa5",
        "trusted": true
      },
      "cell_type": "code",
      "source": "# shape\nprint(kernels.shape)",
      "execution_count": null,
      "outputs": []
    },
    {
      "metadata": {
        "_uuid": "c64e9d3e0bf394fb833de94a0fc5c34f69fce24c",
        "trusted": true
      },
      "cell_type": "code",
      "source": "#columns*rows\nusers.size",
      "execution_count": null,
      "outputs": []
    },
    {
      "metadata": {
        "_uuid": "c64e9d3e0bf394fb833de94a0fc5c34f69fce24c",
        "trusted": true
      },
      "cell_type": "code",
      "source": "#columns*rows\nkernels.size",
      "execution_count": null,
      "outputs": []
    },
    {
      "metadata": {
        "_uuid": "a6315bf510cecb907b2d23aad25faf6ccad32ac4"
      },
      "cell_type": "markdown",
      "source": "how many NA elements in every column\n"
    },
    {
      "metadata": {
        "_uuid": "675f72fb58d83c527f71819e71ed8e17f81126f5",
        "trusted": true
      },
      "cell_type": "code",
      "source": "users.isnull().sum()",
      "execution_count": null,
      "outputs": []
    },
    {
      "metadata": {
        "_uuid": "675f72fb58d83c527f71819e71ed8e17f81126f5",
        "trusted": true
      },
      "cell_type": "code",
      "source": "kernels.isnull().sum()",
      "execution_count": null,
      "outputs": []
    },
    {
      "metadata": {
        "_uuid": "277e1998627d6a3ddeff4e913a6b8c3dc81dec96"
      },
      "cell_type": "markdown",
      "source": "\nWe can get a quick idea of how many instances (rows) and how many attributes (columns) the data contains with the shape property."
    },
    {
      "metadata": {
        "_uuid": "95ee5e18f97bc410df1e54ac74e32cdff2b30755"
      },
      "cell_type": "markdown",
      "source": "for getting some information about the dataset you can use **info()** command"
    },
    {
      "metadata": {
        "_uuid": "ca840f02925751186f87e402fcb5f637ab1ab8a0",
        "trusted": true
      },
      "cell_type": "code",
      "source": "print(users.info())",
      "execution_count": null,
      "outputs": []
    },
    {
      "metadata": {
        "_uuid": "ca840f02925751186f87e402fcb5f637ab1ab8a0",
        "trusted": true
      },
      "cell_type": "code",
      "source": "print(kernels.info())",
      "execution_count": null,
      "outputs": []
    },
    {
      "metadata": {
        "_uuid": "3458838205be4c7fbff88e95ef69934e13e2199b"
      },
      "cell_type": "markdown",
      "source": "you see number of unique item for Species with command below:"
    },
    {
      "metadata": {
        "_uuid": "4b90d165a007106ae99809ad28edd75bd8153dd8",
        "trusted": true
      },
      "cell_type": "code",
      "source": "kernels['Medal'].unique()",
      "execution_count": null,
      "outputs": []
    },
    {
      "metadata": {
        "_uuid": "8accfbddf2228274ad412c3ad3be72b4107d6f6c",
        "trusted": true
      },
      "cell_type": "code",
      "source": "kernels[\"Medal\"].value_counts()\n",
      "execution_count": null,
      "outputs": []
    },
    {
      "metadata": {
        "_uuid": "ae08b544a8d4202c7d0a47ec83d685e81c91a66d"
      },
      "cell_type": "markdown",
      "source": "to check the first 5 rows of the data set, we can use head(5)."
    },
    {
      "metadata": {
        "_uuid": "5899889553c3416b27e93efceddb106eb71f5156",
        "trusted": true
      },
      "cell_type": "code",
      "source": "kernels.head(5) ",
      "execution_count": null,
      "outputs": []
    },
    {
      "metadata": {
        "_uuid": "1150b6ac3d82562aefd5c64f9f01accee5eace4d"
      },
      "cell_type": "markdown",
      "source": "to check out last 5 row of the data set, we use tail() function"
    },
    {
      "metadata": {
        "_uuid": "79339442ff1f53ae1054d794337b9541295d3305",
        "trusted": true
      },
      "cell_type": "code",
      "source": "users.tail() ",
      "execution_count": null,
      "outputs": []
    },
    {
      "metadata": {
        "_uuid": "2c288c3dc8656a872a8529368812546e434d3a22"
      },
      "cell_type": "markdown",
      "source": "to pop up 5 random rows from the data set, we can use **sample(5)**  function"
    },
    {
      "metadata": {
        "_uuid": "09eb18d1fcf4a2b73ba2f5ddce99dfa521681140",
        "trusted": true
      },
      "cell_type": "code",
      "source": "kernels.sample(5) ",
      "execution_count": null,
      "outputs": []
    },
    {
      "metadata": {
        "_uuid": "c8a1cc36348c68fb98d6cb28aa9919fc5f2892f3"
      },
      "cell_type": "markdown",
      "source": "to give a statistical summary about the dataset, we can use **describe()"
    },
    {
      "metadata": {
        "_uuid": "3f7211e96627b9a81c5b620a9ba61446f7719ea3",
        "trusted": true
      },
      "cell_type": "code",
      "source": "kernels.describe() ",
      "execution_count": null,
      "outputs": []
    },
    {
      "metadata": {
        "_uuid": "031d16ca235837e889734635ecff193be64b27a4"
      },
      "cell_type": "markdown",
      "source": "to check out how many null info are on the dataset, we can use **isnull().sum()"
    },
    {
      "metadata": {
        "_uuid": "8807b632269e2fa734ad26e8513199400fc09a83",
        "trusted": true
      },
      "cell_type": "code",
      "source": "kernels.isnull().sum()",
      "execution_count": null,
      "outputs": []
    },
    {
      "metadata": {
        "_uuid": "446e6162e16325213047ff31454813455668b574",
        "trusted": true
      },
      "cell_type": "code",
      "source": "kernels.groupby('Medal').count()",
      "execution_count": null,
      "outputs": []
    },
    {
      "metadata": {
        "_uuid": "c2f1eaf0b6dfdc7cc4dace04614e99ed56425d00"
      },
      "cell_type": "markdown",
      "source": "to print dataset **columns**, we can use columns atribute"
    },
    {
      "metadata": {
        "_uuid": "909d61b33ec06249d0842e6115597bbacf21163f",
        "trusted": true
      },
      "cell_type": "code",
      "source": "kernels.columns",
      "execution_count": null,
      "outputs": []
    },
    {
      "metadata": {
        "trusted": true,
        "_uuid": "62b52ea61cfa597007bd31652c7f03778233227c"
      },
      "cell_type": "code",
      "source": "users.columns",
      "execution_count": null,
      "outputs": []
    },
    {
      "metadata": {
        "_uuid": "22bc5d81c18275ee1fb082c0adbb7a65bdbec4cc"
      },
      "cell_type": "markdown",
      "source": "**<< Note 2 >>**\nin pandas's data frame you can perform some query such as \"where\""
    },
    {
      "metadata": {
        "_uuid": "ff69b963b60e8ff77acae02850885c7e90358129"
      },
      "cell_type": "markdown",
      "source": "## 3-2Find yourself in Users datset"
    },
    {
      "metadata": {
        "trusted": true,
        "_uuid": "1e36488451f22350bc2c655bfdd2b50803540b87"
      },
      "cell_type": "code",
      "source": "users[users['Id']==userid]",
      "execution_count": null,
      "outputs": []
    },
    {
      "metadata": {
        "_uuid": "33fc33a18489b438a884819d99dc00a02b113be8"
      },
      "cell_type": "markdown",
      "source": "## 3-3 Find your kernels in Kernels dataset"
    },
    {
      "metadata": {
        "trusted": true,
        "_uuid": "aa877c667451c76a052808964bbf8eb5991b39e0"
      },
      "cell_type": "code",
      "source": "yourkernels=kernels[kernels['AuthorUserId']==userid]\nyourkernels",
      "execution_count": null,
      "outputs": []
    },
    {
      "metadata": {
        "_uuid": "aa882e5bcdc7d5f440489eff75d1d225269655a4"
      },
      "cell_type": "markdown",
      "source": "**<< Note >>**\n>**Preprocessing and generation pipelines depend on a model type**"
    },
    {
      "metadata": {
        "_uuid": "055772bd170aa8018aabd85106b76675802c33b3"
      },
      "cell_type": "markdown",
      "source": "<a id=\"18\"></a> <br>\n## 3-4 Visualization\n**Data visualization**  is the presentation of data in a pictorial or graphical format. It enables decision makers to see analytics presented visually, so they can grasp difficult concepts or identify new patterns.\n\nWith interactive visualization, you can take the concept a step further by using technology to drill down into charts and graphs for more detail, interactively changing what data you see and how it’s processed.[SAS]\n\n In this section I show you  **11 plots** with **matplotlib** and **seaborn** that is listed in the blew picture:\n <img src=\"http://s8.picofile.com/file/8338475500/visualization.jpg\" />\n"
    },
    {
      "metadata": {
        "_uuid": "b0014a7a52e714996bc443981c853095926d20e5"
      },
      "cell_type": "markdown",
      "source": "<a id=\"19\"></a> <br>\n## 3-4-1  Scatter plot\n\nScatter plot Purpose To identify the type of relationship (if any) between two quantitative variables\n\n\n"
    },
    {
      "metadata": {
        "_uuid": "af099546eed64ebc796403d4139cb4c977c27b03",
        "trusted": true
      },
      "cell_type": "code",
      "source": "# Modify the graph above by assigning each species an individual color.\nx=yourkernels[\"TotalVotes\"]\ny=yourkernels[\"TotalViews\"]\nplt.scatter(x, y)\nplt.legend()\nplt.show()\n",
      "execution_count": null,
      "outputs": []
    },
    {
      "metadata": {
        "trusted": true,
        "_uuid": "1b31a7c185ee654c31ff5b062d111bcefa205966"
      },
      "cell_type": "code",
      "source": "f,ax=plt.subplots(1,2,figsize=(18,8))\nyourkernels['Medal'].value_counts().plot.bar(color=['#CD7F32','#FFDF00','#D3D3D3'],ax=ax[0])\nax[0].set_title('Number Of Medal')\nax[0].set_ylabel('Count')\nplt.show()",
      "execution_count": null,
      "outputs": []
    },
    {
      "metadata": {
        "_uuid": "d1c7b62b5f8cba427bca13049256365141655372"
      },
      "cell_type": "markdown",
      "source": "<a id=\"20\"></a> <br>\n### 3-4-2 Box\nIn descriptive statistics, a **box plot** or boxplot is a method for graphically depicting groups of numerical data through their quartiles. Box plots may also have lines extending vertically from the boxes (whiskers) indicating variability outside the upper and lower quartiles, hence the terms box-and-whisker plot and box-and-whisker diagram.[wikipedia]"
    },
    {
      "metadata": {
        "_uuid": "0655e20f31a582f861d391308a088778cd7eaae9",
        "trusted": true
      },
      "cell_type": "code",
      "source": "yourkernels[\"TotalVotes\"].plot(kind='box')\nplt.figure()\n#This gives us a much clearer idea of the distribution of the input attributes:\n\n",
      "execution_count": null,
      "outputs": []
    },
    {
      "metadata": {
        "_uuid": "f7f6426fd44bcd77d35a5fdbc8c4fc4f18d991ad",
        "trusted": true
      },
      "cell_type": "code",
      "source": "# To plot the species data using a box plot:\n\nsns.boxplot(x=\"TotalViews\", y=\"TotalVotes\", data=yourkernels )\nplt.show()",
      "execution_count": null,
      "outputs": []
    },
    {
      "metadata": {
        "_uuid": "7b193e4aa7e6fb337d3f65c334849094addd097a",
        "trusted": true
      },
      "cell_type": "code",
      "source": "# Use Seaborn's striplot to add data points on top of the box plot \n# Insert jitter=True so that the data points remain scattered and not piled into a verticle line.\n# Assign ax to each axis, so that each plot is ontop of the previous axis. \n\nax= sns.boxplot(x=\"TotalViews\", y=\"TotalVotes\", data=yourkernels)\nax= sns.stripplot(x=\"TotalViews\", y=\"TotalVotes\", data=yourkernels, jitter=True, edgecolor=\"gray\")\nplt.show()",
      "execution_count": null,
      "outputs": []
    },
    {
      "metadata": {
        "_uuid": "56adbafa89c117118621c72b3b7cb19edc21298e",
        "trusted": true
      },
      "cell_type": "code",
      "source": "# Tweek the plot above to change fill and border color color using ax.artists.\n# Assing ax.artists a variable name, and insert the box number into the corresponding brackets\n\nax= sns.boxplot(x=\"TotalViews\", y=\"TotalVotes\", data=yourkernels)\nax= sns.stripplot(x=\"TotalViews\", y=\"TotalVotes\", data=yourkernels, jitter=True, edgecolor=\"gray\")\n\nboxtwo = ax.artists[2]\nboxtwo.set_facecolor('red')\nboxtwo.set_edgecolor('black')\nboxthree=ax.artists[1]\nboxthree.set_facecolor('yellow')\nboxthree.set_edgecolor('black')\n\nplt.show()",
      "execution_count": null,
      "outputs": []
    },
    {
      "metadata": {
        "trusted": true,
        "_uuid": "40c9ab245695d47cb33eda65a0d637de390f9e59"
      },
      "cell_type": "code",
      "source": "sns.factorplot('TotalViews','TotalVotes',hue='Medal',data=yourkernels)\nplt.show()",
      "execution_count": null,
      "outputs": []
    },
    {
      "metadata": {
        "_uuid": "743a92c3c2fff1a1f99845518247f7971ad18b7c"
      },
      "cell_type": "markdown",
      "source": "<a id=\"21\"></a> <br>\n### 3-4-3 Histogram\nWe can also create a **histogram** of each input variable to get an idea of the distribution.\n\n"
    },
    {
      "metadata": {
        "_uuid": "5da0520ed3e738ee8814b2d91843ed4acec2b6e6",
        "trusted": true
      },
      "cell_type": "code",
      "source": "# histograms\nyourkernels.hist(figsize=(15,20))\nplt.figure()",
      "execution_count": null,
      "outputs": []
    },
    {
      "metadata": {
        "_uuid": "b4e3de19781686010c6038f0e3076eb678398169"
      },
      "cell_type": "markdown",
      "source": "It looks like perhaps two of the input variables have a Gaussian distribution. This is useful to note as we can use algorithms that can exploit this assumption.\n\n"
    },
    {
      "metadata": {
        "_uuid": "9f80a6e971cbf0af72d659b51af552ea1dddc9a8",
        "trusted": true
      },
      "cell_type": "code",
      "source": "yourkernels[\"TotalViews\"].hist();",
      "execution_count": null,
      "outputs": []
    },
    {
      "metadata": {
        "trusted": true,
        "_uuid": "5d8ef0781d88c46a8becf6d7f5b1f4ad2c05db7e"
      },
      "cell_type": "code",
      "source": "sns.factorplot('TotalViews','TotalVotes',data=yourkernels)\nplt.show()",
      "execution_count": null,
      "outputs": []
    },
    {
      "metadata": {
        "_uuid": "e0f696ec021ec99c1058a62e22c8b73082fe6fa7"
      },
      "cell_type": "markdown",
      "source": "<a id=\"23\"></a> <br>\n### 3-4-5 violinplots"
    },
    {
      "metadata": {
        "_uuid": "e352d2f8340609adf4bf6718b1d2ecee0fa730b5",
        "trusted": true
      },
      "cell_type": "code",
      "source": "# violinplots on petal-length for each species\nsns.violinplot(data=yourkernels,x=\"TotalViews\", y=\"TotalVotes\")",
      "execution_count": null,
      "outputs": []
    },
    {
      "metadata": {
        "_uuid": "2544d3c2dd34a360d295019d8cb597c7ef8f66bc"
      },
      "cell_type": "markdown",
      "source": "<a id=\"25\"></a> <br>\n###  3-6-7 kdeplot"
    },
    {
      "metadata": {
        "_uuid": "1d07222b89303b386e9e824d52cc73c045667f25",
        "trusted": true
      },
      "cell_type": "code",
      "source": "# seaborn's kdeplot, plots univariate or bivariate density estimates.\n#Size can be changed by tweeking the value used\nsns.FacetGrid(yourkernels, hue=\"TotalVotes\", size=5).map(sns.kdeplot, \"TotalViews\").add_legend()\nplt.show()",
      "execution_count": null,
      "outputs": []
    },
    {
      "metadata": {
        "trusted": true,
        "_uuid": "06e1259b209e753c2f05643706d6157145bb3b98"
      },
      "cell_type": "code",
      "source": "f,ax=plt.subplots(1,3,figsize=(20,8))\nsns.distplot(yourkernels[yourkernels['Medal']==1].TotalVotes,ax=ax[0])\nax[0].set_title('TotalVotes in Medal 1')\nsns.distplot(yourkernels[yourkernels['Medal']==2].TotalVotes,ax=ax[1])\nax[1].set_title('TotalVotes in Medal 2')\nsns.distplot(yourkernels[yourkernels['Medal']==3].TotalVotes,ax=ax[2])\nax[2].set_title('TotalVotes in Medal 3')\nplt.show()",
      "execution_count": null,
      "outputs": []
    },
    {
      "metadata": {
        "_uuid": "560d8e8f17bacefaf8c3855a9648f26b82fdee9b"
      },
      "cell_type": "markdown",
      "source": "<a id=\"26\"></a> <br>\n### 3-4-8 jointplot"
    },
    {
      "metadata": {
        "_uuid": "4adb4da16ea61e0f1a12bc9925dfbbaaa81e0360",
        "trusted": true
      },
      "cell_type": "code",
      "source": "# Use seaborn's jointplot to make a hexagonal bin plot\n#Set desired size and ratio and choose a color.\nsns.jointplot(x=\"TotalVotes\", y=\"TotalViews\", data=yourkernels, size=10,ratio=10, kind='hex',color='green')\nplt.show()",
      "execution_count": null,
      "outputs": []
    },
    {
      "metadata": {
        "_uuid": "3768e31e990bfe4c2ff7b45087fbba85e0560d00"
      },
      "cell_type": "markdown",
      "source": "<a id=\"27\"></a> <br>\n###  3-4-9 andrews_curves"
    },
    {
      "metadata": {
        "_uuid": "263eaa9d2bfad0f8c68b6e8e874bdc11a6e802ac",
        "trusted": true
      },
      "cell_type": "code",
      "source": "# we will use seaborn jointplot shows bivariate scatterplots and univariate histograms with Kernel density \n# estimation in the same figure\nsns.jointplot(x=\"TotalVotes\", y=\"TotalViews\", data=yourkernels, size=6, kind='kde', color='#800000', space=0)",
      "execution_count": null,
      "outputs": []
    },
    {
      "metadata": {
        "_uuid": "8e73333289d17dd648b7b2112d7fe3fe7ea444d0"
      },
      "cell_type": "markdown",
      "source": "<a id=\"28\"></a> <br>\n### 3-4-10 Heatmap"
    },
    {
      "metadata": {
        "_uuid": "3100955ca9dc61ac7d435e9c064d10d06f26afa7",
        "trusted": true
      },
      "cell_type": "code",
      "source": "plt.figure(figsize=(10,7)) \nsns.heatmap(yourkernels.corr(),annot=True,cmap='cubehelix_r') #draws  heatmap with input as the correlation matrix calculted by(iris.corr())\nplt.show()",
      "execution_count": null,
      "outputs": []
    },
    {
      "metadata": {
        "_uuid": "cf3679a51c72dbe2d2549b5fe97e4ac5f1fa0fa0"
      },
      "cell_type": "markdown",
      "source": "you can follow me on:\n\n> ###### [ GitHub](https://github.com/mjbahmani)\n\n--------------------------------------\n\n **I hope you find this kernel helpful and some <font color=\"red\"><b>UPVOTES</b></font> would be very much appreciated** "
    },
    {
      "metadata": {
        "_uuid": "72e1e18935b372b6aac2fae910e5bd12de1d420f"
      },
      "cell_type": "markdown",
      "source": "# This kernel is not completed yet and will be updated soon  !!!"
    }
  ],
  "metadata": {
    "kernelspec": {
      "display_name": "Python 3",
      "language": "python",
      "name": "python3"
    },
    "language_info": {
      "name": "python",
      "version": "3.6.6",
      "mimetype": "text/x-python",
      "codemirror_mode": {
        "name": "ipython",
        "version": 3
      },
      "pygments_lexer": "ipython3",
      "nbconvert_exporter": "python",
      "file_extension": ".py"
    }
  },
  "nbformat": 4,
  "nbformat_minor": 1
}