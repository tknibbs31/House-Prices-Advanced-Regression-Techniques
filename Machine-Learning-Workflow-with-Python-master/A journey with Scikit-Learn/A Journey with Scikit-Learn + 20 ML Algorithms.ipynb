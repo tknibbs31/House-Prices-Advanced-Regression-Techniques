{
  "cells": [
    {
      "metadata": {
        "_uuid": "1247188a5193a0bb99f176fea36dc594d283160e"
      },
      "cell_type": "markdown",
      "source": "## <div style=\"text-align: center\">A Journey with Scikit-Learn + 20 ML Algorithms</div>\n\n<div style=\"text-align: center\">There are plenty of <b>courses and tutorials</b> that can help you learn Scikit-Learn from scratch but here in <b>Kaggle</b>, After reading, you can use this workflow to solve other real problems and use it as a template to deal with <b>machine learning</b> problems.</div>\n<div style=\"text-align:center\">last update: <b>11/13/2018</b></div>\n\n<img src=\"http://scikit-learn.org/stable/_images/scikit-learn-logo-notext.png\">\n\n\n>###### you may  be interested have a look at it: [**10-steps-to-become-a-data-scientist**](https://github.com/mjbahmani/10-steps-to-become-a-data-scientist)\n\n\n---------------------------------------------------------------------\nyou can Fork and Run this kernel on Github:\n> ###### [ GitHub](https://github.com/mjbahmani/10-steps-to-become-a-data-scientist)\n\n-------------------------------------------------------------------------------------------------------------\n\n **I hope you find this kernel helpful and some <font color=\"red\"><b>UPVOTES</b></font> would be very much appreciated**\n \n -----------"
    },
    {
      "metadata": {
        "_uuid": "0a45d14ee727bf2f88a7cd0ba5e6aa338977d10b"
      },
      "cell_type": "markdown",
      "source": " <a id=\"top\"></a> <br>\n## Notebook  Content\n1. [Introduction](#1)\n    1. [Import](#2)\n    1. [Version](#3)\n1. [Algorithms](#4)\n    1. [Data Collection](#5)\n1. [Framework](#6)\n1. [Applications](#7)\n1. [How to use Sklearn Data Set? ](#8)\n1. [Loading external data](#9)\n1. [Model Deployment](#10)\n    1. [Families of ML algorithms](#11)\n    1. [Prepare Features & Targets](#12)\n    1. [Accuracy and precision](#13)\n    1. [Estimators](#14)\n    1. [Predictors](#15)\n    1. [K-Nearest Neighbours](#16)\n    1. [Radius Neighbors Classifier](#17)\n    1. [Logistic Regression](#18)\n    1. [Passive Aggressive Classifier](#19)\n    1. [Naive Bayes](#20)\n    1. [BernoulliNB](#21)\n    1. [SVM](#22)\n    1. [Nu-Support Vector Classification](#23)\n    1. [Linear Support Vector Classification](#24)\n    1. [Decision Tree](#25)\n    1. [ExtraTreeClassifier](#26)\n    1. [Neural network](#27)\n        1. [What is a Perceptron?](#28)\n        1. [The XOR Problem](#29)\n    1. [RandomForest](#30)\n    1. [Bagging classifier ](#31)\n    1. [AdaBoost classifier](#32)\n    1. [Gradient Boosting Classifier](#33)\n    1. [Linear Discriminant Analysis](#34)\n    1. [Quadratic Discriminant Analysis](#35)\n    1. [Kmeans](#36)\n1. [conclusion](#37)\n1. [References](#38)"
    },
    {
      "metadata": {
        "_uuid": "ec7344e7f2a1bafa9a44a518722fcd8ec47c374b"
      },
      "cell_type": "markdown",
      "source": "<a id=\"1\"></a> <br>\n# 1-Introduction\n\n- The __open source__ Python ecosystem provides __a standalone, versatile and powerful scientific working environment__, including: [NumPy](http://numpy.org), [SciPy](http://scipy.org), [IPython](http://ipython.org), [Matplotlib](http://matplotlib.org), [Pandas](http://pandas.pydata.org/), _and many others..._\n\n\n\n- Scikit-Learn builds upon NumPy and SciPy and __complements__ this scientific environment with machine learning algorithms;\n- By design, Scikit-Learn is __non-intrusive__, easy to use and easy to combine with other libraries;\n- Core algorithms are implemented in low-level languages."
    },
    {
      "metadata": {
        "_uuid": "4e28cde75726e3617dc80585626f7f8a1297a9e4"
      },
      "cell_type": "markdown",
      "source": "<a id=\"2\"></a> <br>\n##   1-1 Import"
    },
    {
      "metadata": {
        "_cell_guid": "b1076dfc-b9ad-4769-8c92-a6c4dae69d19",
        "_uuid": "8f2839f25d086af736a60e9eeb907d3b93b6e0e5",
        "trusted": true,
        "_kg_hide-input": true
      },
      "cell_type": "code",
      "source": "from sklearn.gaussian_process import GaussianProcessClassifier\nfrom sklearn.model_selection import train_test_split\nfrom sklearn.linear_model import LogisticRegression\nfrom sklearn.metrics import classification_report\nfrom sklearn.gaussian_process.kernels import RBF\nfrom sklearn.metrics import confusion_matrix\nfrom sklearn.metrics import accuracy_score\nfrom sklearn.decomposition import PCA\nimport matplotlib.pyplot as plt\nfrom pandas import get_dummies\nimport plotly.graph_objs as go\nfrom sklearn import datasets\nfrom sklearn.svm import SVC\nimport seaborn as sns\nimport pandas as pd\nimport numpy as np\nimport matplotlib\nimport warnings\nimport sklearn\nimport scipy\nimport numpy\nimport json\nimport sys\nimport csv\nimport os",
      "execution_count": 46,
      "outputs": []
    },
    {
      "metadata": {
        "_uuid": "3c3c434ac82d771c5549c4f36d0e8e878489f252"
      },
      "cell_type": "markdown",
      "source": "<a id=\"3\"></a> <br>\n## 1-2 Version"
    },
    {
      "metadata": {
        "_uuid": "72fdff866b7cbe404867e82f9122e16fc33facf2",
        "trusted": true,
        "_kg_hide-input": true
      },
      "cell_type": "code",
      "source": "print('matplotlib: {}'.format(matplotlib.__version__))\nprint('sklearn: {}'.format(sklearn.__version__))\nprint('scipy: {}'.format(scipy.__version__))\nprint('seaborn: {}'.format(sns.__version__))\nprint('pandas: {}'.format(pd.__version__))\nprint('numpy: {}'.format(np.__version__))\nprint('Python: {}'.format(sys.version))",
      "execution_count": 47,
      "outputs": [
        {
          "output_type": "stream",
          "text": "matplotlib: 2.2.3\nsklearn: 0.20.0\nscipy: 1.1.0\nseaborn: 0.8.1\npandas: 0.23.4\nnumpy: 1.15.3\nPython: 3.6.6 |Anaconda, Inc.| (default, Oct  9 2018, 12:34:16) \n[GCC 7.3.0]\n",
          "name": "stdout"
        }
      ]
    },
    {
      "metadata": {
        "_uuid": "4284a92f8326eb09dccf0a795f44931c5a7487cc"
      },
      "cell_type": "markdown",
      "source": "## 1-3 Setup\n\nA few tiny adjustments for better **code readability**"
    },
    {
      "metadata": {
        "trusted": true,
        "_uuid": "f9a265dce077fd183b2172378a85ed2d23290189",
        "_kg_hide-input": true
      },
      "cell_type": "code",
      "source": "sns.set(style='white', context='notebook', palette='deep')\nwarnings.filterwarnings('ignore')\nsns.set_style('white')\n%matplotlib inline",
      "execution_count": 48,
      "outputs": []
    },
    {
      "metadata": {
        "_uuid": "cedecea930b278f86292367cc28d2996a235a169"
      },
      "cell_type": "markdown",
      "source": "\n"
    },
    {
      "metadata": {
        "_uuid": "6e80040de557789b0dff267ce45ba3e494885fee"
      },
      "cell_type": "markdown",
      "source": "<a id=\"4\"></a> <br>\n# 2- Algorithms"
    },
    {
      "metadata": {
        "_uuid": "666c206f83175114a513b37fb9ae322b5cd8543e"
      },
      "cell_type": "markdown",
      "source": "**Supervised learning**:\n\n* Linear models (Ridge, Lasso, Elastic Net, ...)\n* Support Vector Machines\n* Tree-based methods (Random Forests, Bagging, GBRT, ...)\n* Nearest neighbors \n* Neural networks (basics)\n* Gaussian Processes\n* Feature selection"
    },
    {
      "metadata": {
        "_uuid": "44eef8d741beebe15555c5166360b2ce77f5d5b1"
      },
      "cell_type": "markdown",
      "source": "**Unsupervised learning**:\n\n* Clustering (KMeans, Ward, ...)\n* Matrix decomposition (PCA, ICA, ...)\n* Density estimation\n* Outlier detection"
    },
    {
      "metadata": {
        "_uuid": "8da2cc5428b697a7b5f21d34038d343bb8b094bb"
      },
      "cell_type": "markdown",
      "source": "__Model selection and evaluation:__\n\n* Cross-validation\n* Grid-search\n* Lots of metrics\n\n_... and many more!_ (See our [Reference](http://scikit-learn.org/dev/modules/classes.html))\n<a id=\"5\"></a> <br>\n## 2-1 Data Collection\n**Data collection** is the process of gathering and measuring data, information or any variables of interest in a standardized and established manner that enables the collector to answer or test hypothesis and evaluate outcomes of the particular collection.[techopedia]\n\n**Iris dataset**  consists of 3 different types of irises’ (Setosa, Versicolour, and Virginica) petal and sepal length, stored in a 150x4 numpy.ndarray\n\nThe rows being the samples and the columns being: Sepal Length, Sepal Width, Petal Length and Petal Width.[6]\n###### [Go to top](#top)"
    },
    {
      "metadata": {
        "_uuid": "9269ae851b744856bce56840637030a16a5877e1",
        "trusted": true,
        "_kg_hide-input": true
      },
      "cell_type": "code",
      "source": "# import Dataset to play with it\ndataset = pd.read_csv('../input/Iris.csv')",
      "execution_count": 49,
      "outputs": []
    },
    {
      "metadata": {
        "_uuid": "58ed9c838069f54de5cf90b20a774c3e236149b3"
      },
      "cell_type": "markdown",
      "source": "**<< Note 1 >>**\n\n* Each row is an observation (also known as : sample, example, instance, record)\n* Each column is a feature (also known as: Predictor, attribute, Independent Variable, input, regressor, Covariate)"
    },
    {
      "metadata": {
        "_uuid": "7b5fd1034cd591ebd29fba1c77d342ec2b408d13"
      },
      "cell_type": "markdown",
      "source": "After loading the data via **pandas**, we should checkout what the content is, description and via the following:"
    },
    {
      "metadata": {
        "_uuid": "edd043f8feb76cfe51b79785302ca4936ceb7b51",
        "trusted": true,
        "_kg_hide-input": true
      },
      "cell_type": "code",
      "source": "type(dataset)",
      "execution_count": 50,
      "outputs": [
        {
          "output_type": "execute_result",
          "execution_count": 50,
          "data": {
            "text/plain": "pandas.core.frame.DataFrame"
          },
          "metadata": {}
        }
      ]
    },
    {
      "metadata": {
        "_uuid": "e8a877d51d20c1ad31bb635cffc89175426eb77c"
      },
      "cell_type": "markdown",
      "source": "<a id=\"6\"></a> <br>\n# 3- Framework\n\nData comes as a finite learning set ${\\cal L} = (X, y)$ where\n* Input samples are given as an array $X$ of shape `n_samples` $\\times$ `n_features`, taking their values in ${\\cal X}$;\n* Output values are given as an array $y$, taking _symbolic_ values in ${\\cal Y}$.\n###### [Go to top](#top)"
    },
    {
      "metadata": {
        "_uuid": "bafb45df9ecfe90563f2f9a1be8a327823cf6d35"
      },
      "cell_type": "markdown",
      "source": "The goal of supervised classification is to build an estimator $\\varphi: {\\cal X} \\mapsto {\\cal Y}$ minimizing\n\n$$\nErr(\\varphi) = \\mathbb{E}_{X,Y}\\{ \\ell(Y, \\varphi(X)) \\}\n$$\n\nwhere $\\ell$ is a loss function, e.g., the zero-one loss for classification $\\ell_{01}(Y,\\hat{Y}) = 1(Y \\neq \\hat{Y})$."
    },
    {
      "metadata": {
        "_uuid": "7efef8f514caf78e7bc2a60b4d5c0e7fa6d160ac"
      },
      "cell_type": "markdown",
      "source": "<a id=\"7\"></a> <br>\n# 4- Applications\n\n- **Classifying** signal from background events; \n- **Diagnosing** disease from symptoms;\n- **Recognising** cats in pictures;\n- **Identifying** body parts with Kinect cameras;\n- ...\n  ###### [Go to top](#top)"
    },
    {
      "metadata": {
        "_uuid": "7cc13baab79cbc6446763e4ebe8feba2c95e74c9"
      },
      "cell_type": "markdown",
      "source": "<a id=\"8\"></a> <br>\n# 5- How to use Sklearn Data Set? \n\n- Input data = Numpy arrays or Scipy sparse matrices ;\n- Algorithms are expressed using high-level operations defined on matrices or vectors (similar to MATLAB) ;\n    - Leverage efficient low-leverage implementations ;\n    - Keep code short and readable. "
    },
    {
      "metadata": {
        "_uuid": "ea74e169f182b48bc12abc501df217e7c711157c",
        "trusted": true,
        "_kg_hide-input": true
      },
      "cell_type": "code",
      "source": "# Generate data\nfrom sklearn.datasets import make_blobs\nimport numpy as np\nX, y = make_blobs(n_samples=1000, centers=20, random_state=123)\nlabels = [\"b\", \"r\"]\ny = np.take(labels, (y < 10))\nprint(X) \nprint(y[:5])",
      "execution_count": 51,
      "outputs": [
        {
          "output_type": "stream",
          "text": "[[-6.45255647 -8.76358259]\n [ 0.28982141  0.14677196]\n [-5.18412293 -1.25347025]\n ...\n [-0.23142814 -1.60800704]\n [-0.60291835  6.87297279]\n [ 2.28425964  4.87408773]]\n['r' 'r' 'b' 'r' 'b']\n",
          "name": "stdout"
        }
      ]
    },
    {
      "metadata": {
        "_uuid": "9430d1ac40a1d7ba715347c27039b9b0859e674a",
        "trusted": true,
        "_kg_hide-input": true
      },
      "cell_type": "code",
      "source": "# X is a 2 dimensional array, with 1000 rows and 2 columns\nprint(X.shape)\n \n# y is a vector of 1000 elements\nprint(y.shape)",
      "execution_count": 52,
      "outputs": [
        {
          "output_type": "stream",
          "text": "(1000, 2)\n(1000,)\n",
          "name": "stdout"
        }
      ]
    },
    {
      "metadata": {
        "_uuid": "0e4d94f4cde57a7f8aeaec876d0020b144fd7818",
        "trusted": true,
        "_kg_hide-input": true
      },
      "cell_type": "code",
      "source": "# Rows and columns can be accessed with lists, slices or masks\nprint(X[[1, 2, 3]])     # rows 1, 2 and 3\nprint(X[:5])            # 5 first rows\nprint(X[500:510, 0])    # values from row 500 to row 510 at column 0\nprint(X[y == \"b\"][:5])  # 5 first rows for which y is \"b\"",
      "execution_count": 53,
      "outputs": [
        {
          "output_type": "stream",
          "text": "[[ 0.28982141  0.14677196]\n [-5.18412293 -1.25347025]\n [-4.71388847  3.67440463]]\n[[-6.45255647 -8.76358259]\n [ 0.28982141  0.14677196]\n [-5.18412293 -1.25347025]\n [-4.71388847  3.67440463]\n [ 4.51558296 -2.88138033]]\n[-4.43836309 -2.45974437  4.33104832 -7.92069399  1.56972029  0.56451501\n  4.99608298  4.75811106 -1.60421418  1.10129122]\n[[-5.18412293 -1.25347025]\n [ 4.51558296 -2.88138033]\n [ 1.70826922  2.62387342]\n [-0.52606562  8.95985097]\n [-1.07591403  9.78730967]]\n",
          "name": "stdout"
        }
      ]
    },
    {
      "metadata": {
        "_uuid": "f87a77afd2c6d75c7d20390394a1f9ae569a30dc",
        "trusted": true,
        "_kg_hide-input": true
      },
      "cell_type": "code",
      "source": "# Plot\nfrom matplotlib import pyplot as plt\nplt.rcParams[\"figure.figsize\"] = (8, 8)\nplt.rcParams[\"figure.max_open_warning\"] = -1\nplt.figure()\nfor label in labels:\n    mask = (y == label)\n    plt.scatter(X[mask, 0], X[mask, 1], c=label)\nplt.xlim(-10, 10)\nplt.ylim(-10, 10)\nplt.show()",
      "execution_count": 54,
      "outputs": [
        {
          "output_type": "display_data",
          "data": {
            "text/plain": "<Figure size 576x576 with 1 Axes>",
            "image/png": "[encoded data removed]"
          },
          "metadata": {}
        }
      ]
    },
    {
      "metadata": {
        "trusted": true,
        "_kg_hide-input": true,
        "_uuid": "71b52d10786896ab758025f670f7dc5c80db03a4"
      },
      "cell_type": "code",
      "source": "from sklearn.datasets import load_wine\ndata = load_wine()\ndata.target[[10, 80, 140]]\nlist(data.target_names)\n",
      "execution_count": 55,
      "outputs": [
        {
          "output_type": "execute_result",
          "execution_count": 55,
          "data": {
            "text/plain": "['class_0', 'class_1', 'class_2']"
          },
          "metadata": {}
        }
      ]
    },
    {
      "metadata": {
        "_uuid": "af3faf3d05bc406b6d882f527f5f5637c4e572a8"
      },
      "cell_type": "markdown",
      "source": "<a id=\"9\"></a> <br>\n# 6- Loading external data\n\n- Numpy provides some [simple tools](https://docs.scipy.org/doc/numpy/reference/routines.io.html) for loading data from files (CSV, binary, etc);\n\n- For structured data, Pandas provides more [advanced tools](http://pandas.pydata.org/pandas-docs/stable/io.html) (CSV, JSON, Excel, HDF5, SQL, etc);\n###### [Go to top](#top)"
    },
    {
      "metadata": {
        "_uuid": "db67b8ed29fd65ec13569321eb9aed2edb1fec80"
      },
      "cell_type": "markdown",
      "source": "## 6-1 what is new?\nA new clustering algorithm: cluster.**OPTICS**: an algoritm related to cluster.**DBSCAN**, that has hyperparameters easier to set and that scales better\n"
    },
    {
      "metadata": {
        "_kg_hide-input": true,
        "trusted": true,
        "_uuid": "5294a607209dc1d413e84d9e182334a41fa5ee08"
      },
      "cell_type": "code",
      "source": "from sklearn.cluster import DBSCAN\nimport numpy as np\nX = np.array([[1, 2], [2, 2], [2, 3],[8, 7], [8, 8], [25, 80]])\nclustering = DBSCAN(eps=3, min_samples=2).fit(X)\n",
      "execution_count": 56,
      "outputs": []
    },
    {
      "metadata": {
        "trusted": true,
        "_uuid": "8e49459a594753031d57b263ee211615e978c04f",
        "_kg_hide-input": true
      },
      "cell_type": "code",
      "source": "clustering.labels_",
      "execution_count": 57,
      "outputs": [
        {
          "output_type": "execute_result",
          "execution_count": 57,
          "data": {
            "text/plain": "array([ 0,  0,  0,  1,  1, -1])"
          },
          "metadata": {}
        }
      ]
    },
    {
      "metadata": {
        "trusted": true,
        "_uuid": "a409afb829be4b4c983398fdd08b816fefd50331",
        "_kg_hide-input": true
      },
      "cell_type": "code",
      "source": "clustering ",
      "execution_count": 58,
      "outputs": [
        {
          "output_type": "execute_result",
          "execution_count": 58,
          "data": {
            "text/plain": "DBSCAN(algorithm='auto', eps=3, leaf_size=30, metric='euclidean',\n    metric_params=None, min_samples=2, n_jobs=None, p=None)"
          },
          "metadata": {}
        }
      ]
    },
    {
      "metadata": {
        "_uuid": "72cc7c7b60a33390a85b16bc34e3b9e424650cdd"
      },
      "cell_type": "markdown",
      "source": "<a id=\"10\"></a> <br>\n# 7- Model Deployment\nAll learning algorithms in scikit-learn share a uniform and limited API consisting of complementary interfaces:\n\n- an `estimator` interface for building and fitting models;\n- a `predictor` interface for making predictions;\n- a `transformer` interface for converting data.\n\nGoal: enforce a simple and consistent API to __make it trivial to swap or plug algorithms__. \n\nIn this section have been applied more than **20 learning algorithms** that play an important rule in your experiences and improve your knowledge in case of using sklearn.\n\n> **<< Note 3 >>** : The results shown here may be slightly different for your analysis because, for example, the neural network algorithms use random number generators for fixing the initial value of the weights (starting points) of the neural networks, which often result in obtaining slightly different (local minima) solutions each time you run the analysis. Also note that changing the seed for the random number generator used to create the train, test, and validation samples can change your results.\n\n  ###### [Go to top](#top)"
    },
    {
      "metadata": {
        "_uuid": "4b7788bbaaace438242d3b2d0d2ed489a91939ce"
      },
      "cell_type": "markdown",
      "source": "<a id=\"11\"></a> <br>\n## 7-1 Families of ML algorithms\nThere are several categories for machine learning algorithms, below are some of these categories:\n* Linear\n    * Linear Regression\n    * Logistic Regression\n    * Support Vector Machines\n* Tree-Based\n    * Decision Tree\n    * Random Forest\n    * GBDT\n* KNN\n* Neural Networks\n\n-----------------------------\nAnd if we  want to categorize ML algorithms with the type of learning, there are below type:\n* Classification\n\n    * k-Nearest \tNeighbors\n    * LinearRegression\n    * SVM\n    * DT \n    * NN\n    \n* clustering\n\n    * K-means\n    * HCA\n    * Expectation Maximization\n    \n* Visualization \tand\tdimensionality \treduction:\n\n    * Principal \tComponent \tAnalysis(PCA)\n    * Kernel PCA\n    * Locally -Linear\tEmbedding \t(LLE)\n    * t-distributed\tStochastic\tNeighbor\tEmbedding \t(t-SNE)\n    \n* Association \trule\tlearning\n\n    * Apriori\n    * Eclat\n* Semisupervised learning\n* Reinforcement Learning\n    * Q-learning\n* Batch learning & Online learning\n* Ensemble  Learning\n\n**<< Note >>**\n> Here is no method which outperforms all others for all tasks\n\n###### [Go to top](#top)"
    },
    {
      "metadata": {
        "_uuid": "daf9910caba26e071ff560dbdaca079ee148e140"
      },
      "cell_type": "markdown",
      "source": "<a id=\"12\"></a> <br>\n## 7-2 Prepare Features & Targets\nFirst of all seperating the data into dependent(**Feature**) and independent(**Target**) variables.\n\n**<< Note 4 >>**\n* X==>>Feature\n* y==>>Target\n##  Test error\n\nIssue: the training error is a __biased__ estimate of the generalization error.\n\nSolution: Divide ${\\cal L}$ into two disjoint parts called training and test sets (usually using 70% for training and 30% for test).\n- Use the training set for fitting the model;\n- Use the test set for evaluation only, thereby yielding an unbiased estimate."
    },
    {
      "metadata": {
        "_uuid": "b06cb1191a0f52a904c52a918d1f999536e79bda",
        "trusted": true,
        "_kg_hide-input": true
      },
      "cell_type": "code",
      "source": "\nX = dataset.iloc[:, :-1].values\ny = dataset.iloc[:, -1].values\n\n# Splitting the dataset into the Training set and Test set\nfrom sklearn.model_selection import train_test_split\nX_train, X_test, y_train, y_test = train_test_split(X, y, test_size = 0.2, random_state = 0)",
      "execution_count": 59,
      "outputs": []
    },
    {
      "metadata": {
        "_uuid": "d13f167dd92888d856c4ad2ff2895bf4855e361c"
      },
      "cell_type": "markdown",
      "source": "<a id=\"13\"></a> <br>\n## 7-3 Accuracy and precision\n- Recall that we want to learn an estimator $\\varphi$ minimizing the generalization error $Err(\\varphi) = \\mathbb{E}_{X,Y}\\{ \\ell(Y, \\varphi(X)) \\}$.\n\n- Problem: Since $P_{X,Y}$ is unknown, the generalization error $Err(\\varphi)$ cannot be evaluated.\n\n- Solution: Use a proxy to approximate $Err(\\varphi)$.\n* **precision** : \n\nIn pattern recognition, information retrieval and binary classification, precision (also called positive predictive value) is the fraction of relevant instances among the retrieved instances, \n* **recall** : \n\nrecall is the fraction of relevant instances that have been retrieved over the total amount of relevant instances. \n* **F-score** :\n\nthe F1 score is a measure of a test's accuracy. It considers both the precision p and the recall r of the test to compute the score: p is the number of correct positive results divided by the number of all positive results returned by the classifier, and r is the number of correct positive results divided by the number of all relevant samples (all samples that should have been identified as positive). The F1 score is the harmonic average of the precision and recall, where an F1 score reaches its best value at 1 (perfect precision and recall) and worst at 0.\n**What is the difference between accuracy and precision?**\n\"Accuracy\" and \"precision\" are general terms throughout science. A good way to internalize the difference are the common \"bullseye diagrams\". In machine learning/statistics as a whole, accuracy vs. precision is analogous to bias vs. variance.\n###### [Go to top](#top)"
    },
    {
      "metadata": {
        "_uuid": "bc2471a2bc5d24fbee0532a71219e8b25996c20c"
      },
      "cell_type": "markdown",
      "source": "<a id=\"14\"></a> <br>\n## 7-4- Estimators"
    },
    {
      "metadata": {
        "_uuid": "ae2c9909a05b213a567338be03f0b880dcbc42fd",
        "trusted": true,
        "_kg_hide-input": true
      },
      "cell_type": "code",
      "source": "class Estimator(object):\n    def fit(self, X, y=None):\n        \"\"\"Fits estimator to data.\"\"\"\n        # set state of ``self``\n        return self",
      "execution_count": 60,
      "outputs": []
    },
    {
      "metadata": {
        "_uuid": "c7c25b799b47dd172f3f73e2c85d2670b0095124",
        "trusted": true,
        "_kg_hide-input": true
      },
      "cell_type": "code",
      "source": "# Import the nearest neighbor class\nfrom sklearn.neighbors import KNeighborsClassifier  # Change this to try \n                                                    # something else\n\n# Set hyper-parameters, for controlling algorithm\nclf = KNeighborsClassifier(n_neighbors=5)\n\n# Learn a model from training data\nclf.fit(X, y)",
      "execution_count": 61,
      "outputs": [
        {
          "output_type": "execute_result",
          "execution_count": 61,
          "data": {
            "text/plain": "KNeighborsClassifier(algorithm='auto', leaf_size=30, metric='minkowski',\n           metric_params=None, n_jobs=None, n_neighbors=5, p=2,\n           weights='uniform')"
          },
          "metadata": {}
        }
      ]
    },
    {
      "metadata": {
        "_uuid": "f3813605cc909c6fecd52a12e2edc37ad4cc42c2",
        "trusted": true,
        "_kg_hide-input": true
      },
      "cell_type": "code",
      "source": "# Estimator state is stored in instance attributes\nclf._tree",
      "execution_count": 62,
      "outputs": [
        {
          "output_type": "execute_result",
          "execution_count": 62,
          "data": {
            "text/plain": "<sklearn.neighbors.kd_tree.KDTree at 0x558a0d2a2148>"
          },
          "metadata": {}
        }
      ]
    },
    {
      "metadata": {
        "_uuid": "0984dea25e9a6c6c7b7372057f87c4bacd230375"
      },
      "cell_type": "markdown",
      "source": "<a id=\"15\"></a> <br>\n## 7-5- Predictors"
    },
    {
      "metadata": {
        "_uuid": "9ca84979bfe46e0b6ce79ade03ac19efde72f5c3",
        "trusted": true,
        "_kg_hide-input": true
      },
      "cell_type": "code",
      "source": "# Make predictions  \nprint(clf.predict(X[:5])) ",
      "execution_count": 63,
      "outputs": [
        {
          "output_type": "stream",
          "text": "['Iris-setosa' 'Iris-setosa' 'Iris-setosa' 'Iris-setosa' 'Iris-setosa']\n",
          "name": "stdout"
        }
      ]
    },
    {
      "metadata": {
        "_uuid": "1b12ceaf8ca499e5e7d3486955f281f5bd72f34b",
        "trusted": true,
        "_kg_hide-input": true
      },
      "cell_type": "code",
      "source": "# Compute (approximate) class probabilities\nprint(clf.predict_proba(X[:5]))",
      "execution_count": 64,
      "outputs": [
        {
          "output_type": "stream",
          "text": "[[1. 0. 0.]\n [1. 0. 0.]\n [1. 0. 0.]\n [1. 0. 0.]\n [1. 0. 0.]]\n",
          "name": "stdout"
        }
      ]
    },
    {
      "metadata": {
        "_uuid": "b8b544762cc789bfeb8ebccd6765f77b9c7e1a0f"
      },
      "cell_type": "markdown",
      "source": "<a id=\"16\"></a> <br>\n## 7-6 K-Nearest Neighbours\nIn **Machine Learning**, the **k-nearest neighbors algorithm** (k-NN) is a non-parametric method used for classification and regression. In both cases, the input consists of the k closest training examples in the feature space. The output depends on whether k-NN is used for classification or regression:\n\nIn k-NN classification, the output is a class membership. An object is classified by a majority vote of its neighbors, with the object being assigned to the class most common among its k nearest neighbors (k is a positive integer, typically small). If k = 1, then the object is simply assigned to the class of that single nearest neighbor.\nIn k-NN regression, the output is the property value for the object. This value is the average of the values of its k nearest neighbors.\nk-NN is a type of instance-based learning, or lazy learning, where the function is only approximated locally and all computation is deferred until classification. The k-NN algorithm is among the simplest of all machine learning algorithms.\n###### [Go to top](#top)"
    },
    {
      "metadata": {
        "_uuid": "eaa2caacfbc319932f79c75c549364089d1e649f",
        "trusted": true,
        "_kg_hide-input": true
      },
      "cell_type": "code",
      "source": "# K-Nearest Neighbours\nfrom sklearn.neighbors import KNeighborsClassifier\n\nModel = KNeighborsClassifier(n_neighbors=8)\nModel.fit(X_train, y_train)\n\ny_pred = Model.predict(X_test)\n\n# Summary of the predictions made by the classifier\nprint(classification_report(y_test, y_pred))\nprint(confusion_matrix(y_test, y_pred))\n# Accuracy score\n\nprint('accuracy is',accuracy_score(y_pred,y_test))",
      "execution_count": 65,
      "outputs": [
        {
          "output_type": "stream",
          "text": "                 precision    recall  f1-score   support\n\n    Iris-setosa       1.00      1.00      1.00        11\nIris-versicolor       1.00      1.00      1.00        13\n Iris-virginica       1.00      1.00      1.00         6\n\n      micro avg       1.00      1.00      1.00        30\n      macro avg       1.00      1.00      1.00        30\n   weighted avg       1.00      1.00      1.00        30\n\n[[11  0  0]\n [ 0 13  0]\n [ 0  0  6]]\naccuracy is 1.0\n",
          "name": "stdout"
        }
      ]
    },
    {
      "metadata": {
        "_uuid": "e01bbec9f80532e30c6cf26d5c3fffffb5ea01d4"
      },
      "cell_type": "markdown",
      "source": "<a id=\"17\"></a> <br>\n##  7-7 Radius Neighbors Classifier\nClassifier implementing a **vote** among neighbors within a given **radius**\n\nIn scikit-learn **RadiusNeighborsClassifier** is very similar to **KNeighborsClassifier** with the exception of two parameters. First, in RadiusNeighborsClassifier we need to specify the radius of the fixed area used to determine if an observation is a neighbor using radius. Unless there is some substantive reason for setting radius to some value, it is best to treat it like any other hyperparameter and tune it during model selection. The second useful parameter is outlier_label, which indicates what label to give an observation that has no observations within the radius - which itself can often be a useful tool for identifying outliers.\n###### [Go to top](#top)"
    },
    {
      "metadata": {
        "_uuid": "7728fdafa163e068668cea92cf8d79306b41d458",
        "trusted": true,
        "_kg_hide-input": true
      },
      "cell_type": "code",
      "source": "from sklearn.neighbors import  RadiusNeighborsClassifier\nModel=RadiusNeighborsClassifier(radius=8.0)\nModel.fit(X_train,y_train)\ny_pred=Model.predict(X_test)\n#summary of the predictions made by the classifier\nprint(classification_report(y_test,y_pred))\nprint(confusion_matrix(y_test,y_pred))\n#Accouracy score\nprint('accuracy is ', accuracy_score(y_test,y_pred))",
      "execution_count": 66,
      "outputs": [
        {
          "output_type": "stream",
          "text": "                 precision    recall  f1-score   support\n\n    Iris-setosa       1.00      1.00      1.00        11\nIris-versicolor       1.00      1.00      1.00        13\n Iris-virginica       1.00      1.00      1.00         6\n\n      micro avg       1.00      1.00      1.00        30\n      macro avg       1.00      1.00      1.00        30\n   weighted avg       1.00      1.00      1.00        30\n\n[[11  0  0]\n [ 0 13  0]\n [ 0  0  6]]\naccuracy is  1.0\n",
          "name": "stdout"
        }
      ]
    },
    {
      "metadata": {
        "_uuid": "e55a785373bf654e0d4b2a78693fab1c8a625acb"
      },
      "cell_type": "markdown",
      "source": "<a id=\"18\"></a> <br>\n## 7-8 Logistic Regression\nLogistic regression is the appropriate regression analysis to conduct when the dependent variable is **dichotomous** (binary). Like all regression analyses, the logistic regression is a **predictive analysis**.\n\nIn statistics, the logistic model (or logit model) is a widely used statistical model that, in its basic form, uses a logistic function to model a binary dependent variable; many more complex extensions exist. In regression analysis, logistic regression (or logit regression) is estimating the parameters of a logistic model; it is a form of binomial regression. Mathematically, a binary logistic model has a dependent variable with two possible values, such as pass/fail, win/lose, alive/dead or healthy/sick; these are represented by an indicator variable, where the two values are labeled \"0\" and \"1\"\n###### [Go to top](#top)"
    },
    {
      "metadata": {
        "_uuid": "55eb348cf69272192274cd0728a123796b459b55",
        "trusted": true,
        "_kg_hide-input": true
      },
      "cell_type": "code",
      "source": "# LogisticRegression\nfrom sklearn.linear_model import LogisticRegression\nModel = LogisticRegression()\nModel.fit(X_train, y_train)\n\ny_pred = Model.predict(X_test)\n\n# Summary of the predictions made by the classifier\nprint(classification_report(y_test, y_pred))\nprint(confusion_matrix(y_test, y_pred))\n# Accuracy score\nprint('accuracy is',accuracy_score(y_pred,y_test))",
      "execution_count": 67,
      "outputs": [
        {
          "output_type": "stream",
          "text": "                 precision    recall  f1-score   support\n\n    Iris-setosa       1.00      1.00      1.00        11\nIris-versicolor       1.00      0.85      0.92        13\n Iris-virginica       0.75      1.00      0.86         6\n\n      micro avg       0.93      0.93      0.93        30\n      macro avg       0.92      0.95      0.92        30\n   weighted avg       0.95      0.93      0.94        30\n\n[[11  0  0]\n [ 0 11  2]\n [ 0  0  6]]\naccuracy is 0.9333333333333333\n",
          "name": "stdout"
        }
      ]
    },
    {
      "metadata": {
        "_uuid": "c0a1c2ccaa4f6e9c5e2e42c47a295ceef7abd3b9"
      },
      "cell_type": "markdown",
      "source": "<a id=\"19\"></a> <br>\n##  7-9 Passive Aggressive Classifier"
    },
    {
      "metadata": {
        "_uuid": "d509b2111a143660dd5cb1f02ea2779e38295b77",
        "trusted": true,
        "_kg_hide-input": true
      },
      "cell_type": "code",
      "source": "from sklearn.linear_model import PassiveAggressiveClassifier\nModel = PassiveAggressiveClassifier()\nModel.fit(X_train, y_train)\n\ny_pred = Model.predict(X_test)\n\n# Summary of the predictions made by the classifier\nprint(classification_report(y_test, y_pred))\nprint(confusion_matrix(y_test, y_pred))\n# Accuracy score\nprint('accuracy is',accuracy_score(y_pred,y_test))",
      "execution_count": 68,
      "outputs": [
        {
          "output_type": "stream",
          "text": "                 precision    recall  f1-score   support\n\n    Iris-setosa       0.58      1.00      0.73        11\nIris-versicolor       1.00      0.15      0.27        13\n Iris-virginica       0.67      1.00      0.80         6\n\n      micro avg       0.63      0.63      0.63        30\n      macro avg       0.75      0.72      0.60        30\n   weighted avg       0.78      0.63      0.54        30\n\n[[11  0  0]\n [ 8  2  3]\n [ 0  0  6]]\naccuracy is 0.6333333333333333\n",
          "name": "stdout"
        }
      ]
    },
    {
      "metadata": {
        "_uuid": "52938b49082dac7b35dc627828838bf12924cc7f"
      },
      "cell_type": "markdown",
      "source": "<a id=\"20\"></a> <br>\n## 7-10 Naive Bayes\nIn machine learning, naive Bayes classifiers are a family of simple \"**probabilistic classifiers**\" based on applying Bayes' theorem with strong (naive) independence assumptions between the features."
    },
    {
      "metadata": {
        "_uuid": "522d4a3fa874950d0850a5a9a4178ec763781ec3",
        "trusted": true,
        "_kg_hide-input": true
      },
      "cell_type": "code",
      "source": "# Naive Bayes\nfrom sklearn.naive_bayes import GaussianNB\nModel = GaussianNB()\nModel.fit(X_train, y_train)\n\ny_pred = Model.predict(X_test)\n\n# Summary of the predictions made by the classifier\nprint(classification_report(y_test, y_pred))\nprint(confusion_matrix(y_test, y_pred))\n# Accuracy score\nprint('accuracy is',accuracy_score(y_pred,y_test))",
      "execution_count": 69,
      "outputs": [
        {
          "output_type": "stream",
          "text": "                 precision    recall  f1-score   support\n\n    Iris-setosa       1.00      1.00      1.00        11\nIris-versicolor       1.00      1.00      1.00        13\n Iris-virginica       1.00      1.00      1.00         6\n\n      micro avg       1.00      1.00      1.00        30\n      macro avg       1.00      1.00      1.00        30\n   weighted avg       1.00      1.00      1.00        30\n\n[[11  0  0]\n [ 0 13  0]\n [ 0  0  6]]\naccuracy is 1.0\n",
          "name": "stdout"
        }
      ]
    },
    {
      "metadata": {
        "_uuid": "e530d18ab308e36d575806583e534cc07fe61c61"
      },
      "cell_type": "markdown",
      "source": "<a id=\"21\"></a> <br>\n##  7-11 BernoulliNB\nLike MultinomialNB, this classifier is suitable for **discrete data**. The difference is that while MultinomialNB works with occurrence counts, BernoulliNB is designed for binary/boolean features."
    },
    {
      "metadata": {
        "_uuid": "e7051b5e9aa144b74e9913cb2a6668832e7f3e02",
        "trusted": true,
        "_kg_hide-input": true
      },
      "cell_type": "code",
      "source": "# BernoulliNB\nfrom sklearn.naive_bayes import BernoulliNB\nModel = BernoulliNB()\nModel.fit(X_train, y_train)\n\ny_pred = Model.predict(X_test)\n\n# Summary of the predictions made by the classifier\nprint(classification_report(y_test, y_pred))\nprint(confusion_matrix(y_test, y_pred))\n# Accuracy score\nprint('accuracy is',accuracy_score(y_pred,y_test))",
      "execution_count": 70,
      "outputs": [
        {
          "output_type": "stream",
          "text": "                 precision    recall  f1-score   support\n\n    Iris-setosa       0.00      0.00      0.00        11\nIris-versicolor       0.00      0.00      0.00        13\n Iris-virginica       0.20      1.00      0.33         6\n\n      micro avg       0.20      0.20      0.20        30\n      macro avg       0.07      0.33      0.11        30\n   weighted avg       0.04      0.20      0.07        30\n\n[[ 0  0 11]\n [ 0  0 13]\n [ 0  0  6]]\naccuracy is 0.2\n",
          "name": "stdout"
        }
      ]
    },
    {
      "metadata": {
        "_uuid": "386d2d0e4fc7f5dc2b9298226d8e2ecfb7150346"
      },
      "cell_type": "markdown",
      "source": "<a id=\"22\"></a> <br>\n## 7-12 SVM\n\nThe advantages of support vector machines are:\n* Effective in high dimensional spaces.\n* Still effective in cases where number of dimensions is greater than the number of samples. \n* Uses a subset of training points in the decision function (called support vectors), so it is also memory efficient.\n* Versatile: different Kernel functions can be specified for the decision function. Common kernels are provided, but it is also possible to specify custom kernels.\n\nThe disadvantages of support vector machines include:\n\n* If the number of features is much greater than the number of samples, avoid over-fitting in choosing Kernel functions and regularization term is crucial.\n* SVMs do not directly provide probability estimates, these are calculated using an expensive five-fold cross-validation\n###### [Go to top](#top)"
    },
    {
      "metadata": {
        "_uuid": "a44a5a43945404c95863668c2ba099f6032357f8",
        "trusted": true,
        "_kg_hide-input": true
      },
      "cell_type": "code",
      "source": "# Support Vector Machine\nfrom sklearn.svm import SVC\n\nModel = SVC()\nModel.fit(X_train, y_train)\n\ny_pred = Model.predict(X_test)\n\n# Summary of the predictions made by the classifier\nprint(classification_report(y_test, y_pred))\nprint(confusion_matrix(y_test, y_pred))\n# Accuracy score\n\nprint('accuracy is',accuracy_score(y_pred,y_test))",
      "execution_count": 71,
      "outputs": [
        {
          "output_type": "stream",
          "text": "                 precision    recall  f1-score   support\n\n    Iris-setosa       1.00      1.00      1.00        11\nIris-versicolor       1.00      1.00      1.00        13\n Iris-virginica       1.00      1.00      1.00         6\n\n      micro avg       1.00      1.00      1.00        30\n      macro avg       1.00      1.00      1.00        30\n   weighted avg       1.00      1.00      1.00        30\n\n[[11  0  0]\n [ 0 13  0]\n [ 0  0  6]]\naccuracy is 1.0\n",
          "name": "stdout"
        }
      ]
    },
    {
      "metadata": {
        "_uuid": "b1d092cc03dcaa712f4fe4ec6867b292321377d5"
      },
      "cell_type": "markdown",
      "source": "<a id=\"23\"></a> <br>\n## 7-13 Nu-Support Vector Classification\n\n> Similar to SVC but uses a parameter to control the number of support vectors."
    },
    {
      "metadata": {
        "_uuid": "2fa7c9a5bef780adb400bd9ad83d030f83a8d2b3",
        "trusted": true,
        "_kg_hide-input": true
      },
      "cell_type": "code",
      "source": "# Support Vector Machine's \nfrom sklearn.svm import NuSVC\n\nModel = NuSVC()\nModel.fit(X_train, y_train)\n\ny_pred = Model.predict(X_test)\n\n# Summary of the predictions made by the classifier\nprint(classification_report(y_test, y_pred))\nprint(confusion_matrix(y_test, y_pred))\n# Accuracy score\n\nprint('accuracy is',accuracy_score(y_pred,y_test))",
      "execution_count": 72,
      "outputs": [
        {
          "output_type": "stream",
          "text": "                 precision    recall  f1-score   support\n\n    Iris-setosa       1.00      1.00      1.00        11\nIris-versicolor       1.00      1.00      1.00        13\n Iris-virginica       1.00      1.00      1.00         6\n\n      micro avg       1.00      1.00      1.00        30\n      macro avg       1.00      1.00      1.00        30\n   weighted avg       1.00      1.00      1.00        30\n\n[[11  0  0]\n [ 0 13  0]\n [ 0  0  6]]\naccuracy is 1.0\n",
          "name": "stdout"
        }
      ]
    },
    {
      "metadata": {
        "_uuid": "5d07a75e83251ddbf8cfdfd11c9faa2671ad87ff"
      },
      "cell_type": "markdown",
      "source": "<a id=\"24\"></a> <br>\n## 7-14 Linear Support Vector Classification\n\nSimilar to **SVC** with parameter kernel=’linear’, but implemented in terms of liblinear rather than libsvm, so it has more flexibility in the choice of penalties and loss functions and should scale better to large numbers of samples.\n###### [Go to top](#top)"
    },
    {
      "metadata": {
        "_uuid": "7e7275f160f2e4e270200eaa01c13be5cb465142",
        "trusted": true,
        "_kg_hide-input": true
      },
      "cell_type": "code",
      "source": "# Linear Support Vector Classification\nfrom sklearn.svm import LinearSVC\n\nModel = LinearSVC()\nModel.fit(X_train, y_train)\n\ny_pred = Model.predict(X_test)\n\n# Summary of the predictions made by the classifier\nprint(classification_report(y_test, y_pred))\nprint(confusion_matrix(y_test, y_pred))\n# Accuracy score\n\nprint('accuracy is',accuracy_score(y_pred,y_test))",
      "execution_count": 73,
      "outputs": [
        {
          "output_type": "stream",
          "text": "                 precision    recall  f1-score   support\n\n    Iris-setosa       1.00      1.00      1.00        11\nIris-versicolor       0.92      0.92      0.92        13\n Iris-virginica       0.83      0.83      0.83         6\n\n      micro avg       0.93      0.93      0.93        30\n      macro avg       0.92      0.92      0.92        30\n   weighted avg       0.93      0.93      0.93        30\n\n[[11  0  0]\n [ 0 12  1]\n [ 0  1  5]]\naccuracy is 0.9333333333333333\n",
          "name": "stdout"
        }
      ]
    },
    {
      "metadata": {
        "_uuid": "cec81c9e0c3bc6afba07811a321b5383a0f823f3"
      },
      "cell_type": "markdown",
      "source": "<a id=\"25\"></a> <br>\n## 7-15 Decision Tree\nDecision Trees (DTs) are a non-parametric supervised learning method used for **classification** and **regression**. The goal is to create a model that predicts the value of a target variable by learning simple **decision rules** inferred from the data features.\n###### [Go to top](#top)"
    },
    {
      "metadata": {
        "_uuid": "10e25ad67f7c25a8654637d4ba496b64121d67d0",
        "trusted": true,
        "_kg_hide-input": true
      },
      "cell_type": "code",
      "source": "# Decision Tree's\nfrom sklearn.tree import DecisionTreeClassifier\n\nModel = DecisionTreeClassifier()\n\nModel.fit(X_train, y_train)\n\ny_pred = Model.predict(X_test)\n\n# Summary of the predictions made by the classifier\nprint(classification_report(y_test, y_pred))\nprint(confusion_matrix(y_test, y_pred))\n# Accuracy score\nprint('accuracy is',accuracy_score(y_pred,y_test))",
      "execution_count": 74,
      "outputs": [
        {
          "output_type": "stream",
          "text": "                 precision    recall  f1-score   support\n\n    Iris-setosa       1.00      1.00      1.00        11\nIris-versicolor       0.93      1.00      0.96        13\n Iris-virginica       1.00      0.83      0.91         6\n\n      micro avg       0.97      0.97      0.97        30\n      macro avg       0.98      0.94      0.96        30\n   weighted avg       0.97      0.97      0.97        30\n\n[[11  0  0]\n [ 0 13  0]\n [ 0  1  5]]\naccuracy is 0.9666666666666667\n",
          "name": "stdout"
        }
      ]
    },
    {
      "metadata": {
        "_uuid": "a7d897130fd705943764e924bbe468c99b7c036a"
      },
      "cell_type": "markdown",
      "source": "<a id=\"26\"></a> <br>\n## 7-16 ExtraTreeClassifier\nAn extremely randomized tree classifier.\n\nExtra-trees differ from classic decision trees in the way they are built. When looking for the best split to separate the samples of a node into two groups, random splits are drawn for each of the **max_features** randomly selected features and the best split among those is chosen. When max_features is set 1, this amounts to building a totally random decision tree.\n\n**Warning**: Extra-trees should only be used within ensemble methods.\n###### [Go to top](#top)"
    },
    {
      "metadata": {
        "_uuid": "5a775006a814b6aacdcc07dc46995eb291b873f1",
        "trusted": true,
        "_kg_hide-input": true
      },
      "cell_type": "code",
      "source": "# ExtraTreeClassifier\nfrom sklearn.tree import ExtraTreeClassifier\n\nModel = ExtraTreeClassifier()\n\nModel.fit(X_train, y_train)\n\ny_pred = Model.predict(X_test)\n\n# Summary of the predictions made by the classifier\nprint(classification_report(y_test, y_pred))\nprint(confusion_matrix(y_test, y_pred))\n# Accuracy score\nprint('accuracy is',accuracy_score(y_pred,y_test))",
      "execution_count": 75,
      "outputs": [
        {
          "output_type": "stream",
          "text": "                 precision    recall  f1-score   support\n\n    Iris-setosa       1.00      1.00      1.00        11\nIris-versicolor       1.00      1.00      1.00        13\n Iris-virginica       1.00      1.00      1.00         6\n\n      micro avg       1.00      1.00      1.00        30\n      macro avg       1.00      1.00      1.00        30\n   weighted avg       1.00      1.00      1.00        30\n\n[[11  0  0]\n [ 0 13  0]\n [ 0  0  6]]\naccuracy is 1.0\n",
          "name": "stdout"
        }
      ]
    },
    {
      "metadata": {
        "_uuid": "48f940f73580a2997d75f22eba09d938c86a1a97"
      },
      "cell_type": "markdown",
      "source": "<a id=\"27\"></a> <br>\n## 7-17 Neural network\n\nI have used multi-layer Perceptron classifier.\nThis model optimizes the log-loss function using **LBFGS** or **stochastic gradient descent**.\n###### [Go to top](#top)"
    },
    {
      "metadata": {
        "_uuid": "1c10482510f654878f93b573dc1abe4112b861eb"
      },
      "cell_type": "markdown",
      "source": "<a id=\"28\"></a> <br>\n## 7-17-1 What is a Perceptron?"
    },
    {
      "metadata": {
        "_uuid": "a94d82b497cbe543da0a637ecfed6e9e8b7569e7"
      },
      "cell_type": "markdown",
      "source": "There are many online examples and tutorials on perceptrons and learning. Here is a list of some articles:\n- [Wikipedia on Perceptrons](https://en.wikipedia.org/wiki/Perceptron)\n- Jurafsky and Martin (ed. 3), Chapter 8\n###### [Go to top](#top)"
    },
    {
      "metadata": {
        "_uuid": "e8e4da1a0b3d51a5fff38750fb4631ac3aa7eebb"
      },
      "cell_type": "markdown",
      "source": "This is an example that I have taken from a draft of the 3rd edition of Jurafsky and Martin, with slight modifications:\nWe import *numpy* and use its *exp* function. We could use the same function from the *math* module, or some other module like *scipy*. The *sigmoid* function is defined as in the textbook:\n"
    },
    {
      "metadata": {
        "_uuid": "196e5a54ed0de712e2254e77439051267cad4b3d",
        "trusted": true,
        "_kg_hide-input": true
      },
      "cell_type": "code",
      "source": "import numpy as np\n\ndef sigmoid(z):\n    return 1 / (1 + np.exp(-z))",
      "execution_count": 76,
      "outputs": []
    },
    {
      "metadata": {
        "_uuid": "9aa207d0bb6a7342932406d8fa68cbd49be866b5"
      },
      "cell_type": "markdown",
      "source": "Our example data, **weights** $w$, **bias** $b$, and **input** $x$ are defined as:"
    },
    {
      "metadata": {
        "_uuid": "69cae82df8a906ad43594464c6497e05e282dcd1",
        "trusted": true,
        "_kg_hide-input": true
      },
      "cell_type": "code",
      "source": "w = np.array([0.2, 0.3, 0.8])\nb = 0.5\nx = np.array([0.5, 0.6, 0.1])",
      "execution_count": 77,
      "outputs": []
    },
    {
      "metadata": {
        "_uuid": "8cd5da02c0fc0beedd9a3417e399982293d28fd2"
      },
      "cell_type": "markdown",
      "source": "Our neural unit would compute $z$ as the **dot-product** $w \\cdot x$ and add the **bias** $b$ to it. The sigmoid function defined above will convert this $z$ value to the **activation value** $a$ of the unit:"
    },
    {
      "metadata": {
        "_uuid": "65d083572bf2cc897d816765db05758b107741ff",
        "trusted": true,
        "_kg_hide-input": true
      },
      "cell_type": "code",
      "source": "z = w.dot(x) + b\nprint(\"z:\", z)\nprint(\"a:\", sigmoid(z))",
      "execution_count": 78,
      "outputs": [
        {
          "output_type": "stream",
          "text": "z: 0.8600000000000001\na: 0.7026606543447316\n",
          "name": "stdout"
        }
      ]
    },
    {
      "metadata": {
        "_uuid": "9e9101a20c9a167a1d925f3b64aafb94317155e2"
      },
      "cell_type": "markdown",
      "source": "<a id=\"29\"></a> <br>\n### 7-17-2 The XOR Problem\nThe power of neural units comes from combining them into larger networks. Minsky and Papert (1969): A single neural unit cannot compute the simple logical function XOR.\n\nThe task is to implement a simple **perceptron** to compute logical operations like AND, OR, and XOR.\n\n- Input: $x_1$ and $x_2$\n- Bias: $b = -1$ for AND; $b = 0$ for OR\n- Weights: $w = [1, 1]$\n\nwith the following activation function:\n\n$$\ny = \\begin{cases}\n    \\ 0 & \\quad \\text{if } w \\cdot x + b \\leq 0\\\\\n    \\ 1 & \\quad \\text{if } w \\cdot x + b > 0\n  \\end{cases}\n$$\n###### [Go to top](#top)"
    },
    {
      "metadata": {
        "_uuid": "c03b3a6a5307cc53e637afd6da5c307c985be7ac"
      },
      "cell_type": "markdown",
      "source": "We can define this activation function in Python as:"
    },
    {
      "metadata": {
        "_uuid": "7b0832df65fc1aa694a1cf67b8713c894b1ed2a2",
        "trusted": true
      },
      "cell_type": "code",
      "source": "def activation(z):\n    if z > 0:\n        return 1\n    return 0",
      "execution_count": 79,
      "outputs": []
    },
    {
      "metadata": {
        "_uuid": "27ae56a47bd180ebbfd82b3f0242c8078db6ac97"
      },
      "cell_type": "markdown",
      "source": "For AND we could implement a perceptron as:"
    },
    {
      "metadata": {
        "_uuid": "3267d3f1a2864f29ff2382a2057b0b88fa74b649",
        "trusted": true,
        "_kg_hide-input": true
      },
      "cell_type": "code",
      "source": "w = np.array([1, 1])\nb = -1\nx = np.array([0, 0])\nprint(\"0 AND 0:\", activation(w.dot(x) + b))\nx = np.array([1, 0])\nprint(\"1 AND 0:\", activation(w.dot(x) + b))\nx = np.array([0, 1])\nprint(\"0 AND 1:\", activation(w.dot(x) + b))\nx = np.array([1, 1])\nprint(\"1 AND 1:\", activation(w.dot(x) + b))",
      "execution_count": 80,
      "outputs": [
        {
          "output_type": "stream",
          "text": "0 AND 0: 0\n1 AND 0: 0\n0 AND 1: 0\n1 AND 1: 1\n",
          "name": "stdout"
        }
      ]
    },
    {
      "metadata": {
        "_uuid": "dbee1f41f0bd66613f5b49e0f65be4bfd9f91283"
      },
      "cell_type": "markdown",
      "source": "For OR we could implement a perceptron as:"
    },
    {
      "metadata": {
        "_uuid": "bf47440fb2f5a0fb016286f0a3a41a05a8416495",
        "trusted": true,
        "_kg_hide-input": true
      },
      "cell_type": "code",
      "source": "w = np.array([1, 1])\nb = 0\nx = np.array([0, 0])\nprint(\"0 OR 0:\", activation(w.dot(x) + b))\nx = np.array([1, 0])\nprint(\"1 OR 0:\", activation(w.dot(x) + b))\nx = np.array([0, 1])\nprint(\"0 OR 1:\", activation(w.dot(x) + b))\nx = np.array([1, 1])\nprint(\"1 OR 1:\", activation(w.dot(x) + b))",
      "execution_count": 81,
      "outputs": [
        {
          "output_type": "stream",
          "text": "0 OR 0: 0\n1 OR 0: 1\n0 OR 1: 1\n1 OR 1: 1\n",
          "name": "stdout"
        }
      ]
    },
    {
      "metadata": {
        "_uuid": "181068ef1b8e1ba568093184c41a118b4c0bfe7f"
      },
      "cell_type": "markdown",
      "source": "There is no way to implement a perceptron for XOR this way."
    },
    {
      "metadata": {
        "_uuid": "d12494da861ea094378c7cf6a3409803fb5585ac"
      },
      "cell_type": "markdown",
      "source": "no see our prediction for iris"
    },
    {
      "metadata": {
        "_uuid": "5f040cfaeb71f8caa94e4d7f18cccde8d2a0b8a7",
        "trusted": true,
        "_kg_hide-input": true
      },
      "cell_type": "code",
      "source": "from sklearn.neural_network import MLPClassifier\nModel=MLPClassifier()\nModel.fit(X_train,y_train)\ny_pred=Model.predict(X_test)\n# Summary of the predictions\nprint(classification_report(y_test,y_pred))\nprint(confusion_matrix(y_test,y_pred))\n#Accuracy Score\nprint('accuracy is ',accuracy_score(y_pred,y_test))",
      "execution_count": 82,
      "outputs": [
        {
          "output_type": "stream",
          "text": "                 precision    recall  f1-score   support\n\n    Iris-setosa       1.00      0.18      0.31        11\nIris-versicolor       0.00      0.00      0.00        13\n Iris-virginica       0.21      1.00      0.35         6\n\n      micro avg       0.27      0.27      0.27        30\n      macro avg       0.40      0.39      0.22        30\n   weighted avg       0.41      0.27      0.18        30\n\n[[ 2  0  9]\n [ 0  0 13]\n [ 0  0  6]]\naccuracy is  0.26666666666666666\n",
          "name": "stdout"
        }
      ]
    },
    {
      "metadata": {
        "_uuid": "ffc339dbf9c8da74194b994930694bd97bb2afbb"
      },
      "cell_type": "markdown",
      "source": "<a id=\"30\"></a> <br>\n## 7-18 RandomForest\nA random forest is a meta estimator that **fits a number of decision tree classifiers** on various sub-samples of the dataset and uses averaging to improve the predictive accuracy and control over-fitting. \n\nThe sub-sample size is always the same as the original input sample size but the samples are drawn with replacement if bootstrap=True (default).\n###### [Go to top](#top)"
    },
    {
      "metadata": {
        "_uuid": "8ed2305b51c2248a8aa62cf4452632f448e83771",
        "trusted": true,
        "_kg_hide-input": true
      },
      "cell_type": "code",
      "source": "from sklearn.ensemble import RandomForestClassifier\nModel=RandomForestClassifier(max_depth=2)\nModel.fit(X_train,y_train)\ny_pred=Model.predict(X_test)\nprint(classification_report(y_test,y_pred))\nprint(confusion_matrix(y_pred,y_test))\n#Accuracy Score\nprint('accuracy is ',accuracy_score(y_pred,y_test))",
      "execution_count": 83,
      "outputs": [
        {
          "output_type": "stream",
          "text": "                 precision    recall  f1-score   support\n\n    Iris-setosa       1.00      1.00      1.00        11\nIris-versicolor       1.00      1.00      1.00        13\n Iris-virginica       1.00      1.00      1.00         6\n\n      micro avg       1.00      1.00      1.00        30\n      macro avg       1.00      1.00      1.00        30\n   weighted avg       1.00      1.00      1.00        30\n\n[[11  0  0]\n [ 0 13  0]\n [ 0  0  6]]\naccuracy is  1.0\n",
          "name": "stdout"
        }
      ]
    },
    {
      "metadata": {
        "_uuid": "1311eb15f2afceed2219faeb859d0d07b7072176"
      },
      "cell_type": "markdown",
      "source": "<a id=\"31\"></a> <br>\n## 7-19 Bagging classifier \nA Bagging classifier is an ensemble **meta-estimator** that fits base classifiers each on random subsets of the original dataset and then aggregate their individual predictions (either by voting or by averaging) to form a final prediction. Such a meta-estimator can typically be used as a way to reduce the variance of a black-box estimator (e.g., a decision tree), by introducing randomization into its construction procedure and then making an ensemble out of it.\n\nThis algorithm encompasses several works from the literature. When random subsets of the dataset are drawn as random subsets of the samples, then this algorithm is known as Pasting . If samples are drawn with replacement, then the method is known as Bagging . When random subsets of the dataset are drawn as random subsets of the features, then the method is known as Random Subspaces . Finally, when base estimators are built on subsets of both samples and features, then the method is known as Random Patches .[http://scikit-learn.org]\n###### [Go to top](#top)"
    },
    {
      "metadata": {
        "_uuid": "c11c731d3db6c1c81301da85dc158cb7d324c4cb",
        "trusted": true,
        "_kg_hide-input": true
      },
      "cell_type": "code",
      "source": "from sklearn.ensemble import BaggingClassifier\nModel=BaggingClassifier()\nModel.fit(X_train,y_train)\ny_pred=Model.predict(X_test)\nprint(classification_report(y_test,y_pred))\nprint(confusion_matrix(y_pred,y_test))\n#Accuracy Score\nprint('accuracy is ',accuracy_score(y_pred,y_test))",
      "execution_count": 84,
      "outputs": [
        {
          "output_type": "stream",
          "text": "                 precision    recall  f1-score   support\n\n    Iris-setosa       1.00      1.00      1.00        11\nIris-versicolor       0.93      1.00      0.96        13\n Iris-virginica       1.00      0.83      0.91         6\n\n      micro avg       0.97      0.97      0.97        30\n      macro avg       0.98      0.94      0.96        30\n   weighted avg       0.97      0.97      0.97        30\n\n[[11  0  0]\n [ 0 13  1]\n [ 0  0  5]]\naccuracy is  0.9666666666666667\n",
          "name": "stdout"
        }
      ]
    },
    {
      "metadata": {
        "_uuid": "c0944bd32424f38906148d96f4b1e6fccfbf97a6"
      },
      "cell_type": "markdown",
      "source": "<a id=\"32\"></a> <br>\n##  7-20 AdaBoost classifier\n\nAn AdaBoost classifier is a meta-estimator that begins by fitting a classifier on the original dataset and then fits additional copies of the classifier on the same dataset but where the weights of incorrectly classified instances are adjusted such that subsequent classifiers focus more on difficult cases.\nThis class implements the algorithm known as **AdaBoost-SAMME** ."
    },
    {
      "metadata": {
        "_uuid": "938946ee8e017b982c4c06e193d4d13cb7d3fb5f",
        "trusted": true,
        "_kg_hide-input": true
      },
      "cell_type": "code",
      "source": "from sklearn.ensemble import AdaBoostClassifier\nModel=AdaBoostClassifier()\nModel.fit(X_train,y_train)\ny_pred=Model.predict(X_test)\nprint(classification_report(y_test,y_pred))\nprint(confusion_matrix(y_pred,y_test))\n#Accuracy Score\nprint('accuracy is ',accuracy_score(y_pred,y_test))",
      "execution_count": 85,
      "outputs": [
        {
          "output_type": "stream",
          "text": "                 precision    recall  f1-score   support\n\n    Iris-setosa       1.00      1.00      1.00        11\nIris-versicolor       0.93      1.00      0.96        13\n Iris-virginica       1.00      0.83      0.91         6\n\n      micro avg       0.97      0.97      0.97        30\n      macro avg       0.98      0.94      0.96        30\n   weighted avg       0.97      0.97      0.97        30\n\n[[11  0  0]\n [ 0 13  1]\n [ 0  0  5]]\naccuracy is  0.9666666666666667\n",
          "name": "stdout"
        }
      ]
    },
    {
      "metadata": {
        "_uuid": "9d62842d12731d3eb1d6577c5b35c12c4886c708"
      },
      "cell_type": "markdown",
      "source": "<a id=\"33\"></a> <br>\n## 7-21 Gradient Boosting Classifier\nGB builds an additive model in a forward stage-wise fashion; it allows for the optimization of arbitrary differentiable loss functions."
    },
    {
      "metadata": {
        "_uuid": "863124561c0d1b5995d0b8d3702daa7bc364d6b0",
        "trusted": true,
        "_kg_hide-input": true
      },
      "cell_type": "code",
      "source": "from sklearn.ensemble import GradientBoostingClassifier\nModel=GradientBoostingClassifier()\nModel.fit(X_train,y_train)\ny_pred=Model.predict(X_test)\nprint(classification_report(y_test,y_pred))\nprint(confusion_matrix(y_pred,y_test))\n#Accuracy Score\nprint('accuracy is ',accuracy_score(y_pred,y_test))",
      "execution_count": 86,
      "outputs": [
        {
          "output_type": "stream",
          "text": "                 precision    recall  f1-score   support\n\n    Iris-setosa       1.00      1.00      1.00        11\nIris-versicolor       0.93      1.00      0.96        13\n Iris-virginica       1.00      0.83      0.91         6\n\n      micro avg       0.97      0.97      0.97        30\n      macro avg       0.98      0.94      0.96        30\n   weighted avg       0.97      0.97      0.97        30\n\n[[11  0  0]\n [ 0 13  1]\n [ 0  0  5]]\naccuracy is  0.9666666666666667\n",
          "name": "stdout"
        }
      ]
    },
    {
      "metadata": {
        "_uuid": "e89b4494bd78c2d66beeba34a4e320fd8c9dae0c"
      },
      "cell_type": "markdown",
      "source": "<a id=\"34\"></a> <br>\n## 7-22 Linear Discriminant Analysis\nLinear Discriminant Analysis (discriminant_analysis.LinearDiscriminantAnalysis) and Quadratic Discriminant Analysis (discriminant_analysis.QuadraticDiscriminantAnalysis) are two classic classifiers, with, as their names suggest, a **linear and a quadratic decision surface**, respectively.\n\nThese classifiers are attractive because they have closed-form solutions that can be easily computed, are inherently multiclass, have proven to work well in practice, and have no **hyperparameters** to tune.\n###### [Go to top](#top)"
    },
    {
      "metadata": {
        "_uuid": "0796cd9f1c902345df605b7557a9c3ff686e35a9",
        "trusted": true,
        "_kg_hide-input": true
      },
      "cell_type": "code",
      "source": "from sklearn.discriminant_analysis import LinearDiscriminantAnalysis\nModel=LinearDiscriminantAnalysis()\nModel.fit(X_train,y_train)\ny_pred=Model.predict(X_test)\nprint(classification_report(y_test,y_pred))\nprint(confusion_matrix(y_pred,y_test))\n#Accuracy Score\nprint('accuracy is ',accuracy_score(y_pred,y_test))",
      "execution_count": 87,
      "outputs": [
        {
          "output_type": "stream",
          "text": "                 precision    recall  f1-score   support\n\n    Iris-setosa       1.00      1.00      1.00        11\nIris-versicolor       1.00      1.00      1.00        13\n Iris-virginica       1.00      1.00      1.00         6\n\n      micro avg       1.00      1.00      1.00        30\n      macro avg       1.00      1.00      1.00        30\n   weighted avg       1.00      1.00      1.00        30\n\n[[11  0  0]\n [ 0 13  0]\n [ 0  0  6]]\naccuracy is  1.0\n",
          "name": "stdout"
        }
      ]
    },
    {
      "metadata": {
        "_uuid": "296137970fc94fa4a4eb4185cb5fa952b1985c57"
      },
      "cell_type": "markdown",
      "source": "<a id=\"35\"></a> <br>\n## 7-23 Quadratic Discriminant Analysis\nA classifier with a quadratic decision boundary, generated by fitting class conditional densities to the data and using Bayes’ rule.\n\nThe model fits a **Gaussian** density to each class.\n###### [Go to top](#top)"
    },
    {
      "metadata": {
        "_uuid": "5f521d19f295b8e8f24f5715e93b1c45e9a6bce3",
        "trusted": true,
        "_kg_hide-input": true
      },
      "cell_type": "code",
      "source": "from sklearn.discriminant_analysis import QuadraticDiscriminantAnalysis\nModel=QuadraticDiscriminantAnalysis()\nModel.fit(X_train,y_train)\ny_pred=Model.predict(X_test)\nprint(classification_report(y_test,y_pred))\nprint(confusion_matrix(y_pred,y_test))\n#Accuracy Score\nprint('accuracy is ',accuracy_score(y_pred,y_test))",
      "execution_count": 88,
      "outputs": [
        {
          "output_type": "stream",
          "text": "                 precision    recall  f1-score   support\n\n    Iris-setosa       1.00      1.00      1.00        11\nIris-versicolor       1.00      1.00      1.00        13\n Iris-virginica       1.00      1.00      1.00         6\n\n      micro avg       1.00      1.00      1.00        30\n      macro avg       1.00      1.00      1.00        30\n   weighted avg       1.00      1.00      1.00        30\n\n[[11  0  0]\n [ 0 13  0]\n [ 0  0  6]]\naccuracy is  1.0\n",
          "name": "stdout"
        }
      ]
    },
    {
      "metadata": {
        "_uuid": "0518634bf8850ac1bfcfc301e93a8740e1995c3a"
      },
      "cell_type": "markdown",
      "source": "<a id=\"36\"></a> <br>\n## 7-24 Kmeans \nK-means clustering is a type of unsupervised learning, which is used when you have unlabeled data (i.e., data without defined categories or groups). \n\nThe goal of this algorithm is **to find groups in the data**, with the number of groups represented by the variable K. The algorithm works iteratively to assign each data point to one of K groups based on the features that are provided.\n\n###### [Go to top](#top)"
    },
    {
      "metadata": {
        "_uuid": "427f08af02fc7288a5e35de5ff4b6c33b8fce491",
        "trusted": true,
        "_kg_hide-input": true
      },
      "cell_type": "code",
      "source": "from sklearn.cluster import KMeans\niris_SP = dataset[['SepalLengthCm','SepalWidthCm','PetalLengthCm','PetalWidthCm']]\n# k-means cluster analysis for 1-15 clusters                                              \nfrom scipy.spatial.distance import cdist\nclusters=range(1,15)\nmeandist=[]\n\n# loop through each cluster and fit the model to the train set\n# generate the predicted cluster assingment and append the mean \n# distance my taking the sum divided by the shape\nfor k in clusters:\n    model=KMeans(n_clusters=k)\n    model.fit(iris_SP)\n    clusassign=model.predict(iris_SP)\n    meandist.append(sum(np.min(cdist(iris_SP, model.cluster_centers_, 'euclidean'), axis=1))\n    / iris_SP.shape[0])\n\n\"\"\"\nPlot average distance from observations from the cluster centroid\nto use the Elbow Method to identify number of clusters to choose\n\"\"\"\nplt.plot(clusters, meandist)\nplt.xlabel('Number of clusters')\nplt.ylabel('Average distance')\nplt.title('Selecting k with the Elbow Method') \n# pick the fewest number of clusters that reduces the average distance\n# If you observe after 3 we can see graph is almost linear",
      "execution_count": 89,
      "outputs": [
        {
          "output_type": "execute_result",
          "execution_count": 89,
          "data": {
            "text/plain": "Text(0.5,1,'Selecting k with the Elbow Method')"
          },
          "metadata": {}
        },
        {
          "output_type": "display_data",
          "data": {
            "text/plain": "<Figure size 576x576 with 1 Axes>",
            "image/png": "[encoded data removed]"
          },
          "metadata": {}
        }
      ]
    },
    {
      "metadata": {
        "_uuid": "7dfdff6d8a54c846d12a3c234e7765bb7f9d06f3"
      },
      "cell_type": "markdown",
      "source": "<a id=\"36\"></a> <br>\n## 7-25 Plot classification probability"
    },
    {
      "metadata": {
        "trusted": true,
        "_uuid": "f8e04572a7c768f5928229a8896dc65008571cbc",
        "_kg_hide-input": true
      },
      "cell_type": "code",
      "source": "print(__doc__)\n\n# Author: Alexandre Gramfort <alexandre.gramfort@inria.fr>\n# License: BSD 3 clause\n\n\niris = datasets.load_iris()\nX = iris.data[:, 0:2]  # we only take the first two features for visualization\ny = iris.target\n\nn_features = X.shape[1]\n\nC = 10\nkernel = 1.0 * RBF([1.0, 1.0])  # for GPC\n\n# Create different classifiers.\nclassifiers = {\n    'L1 logistic': LogisticRegression(C=C, penalty='l1',\n                                      solver='saga',\n                                      multi_class='multinomial',\n                                      max_iter=10000),\n    'L2 logistic (Multinomial)': LogisticRegression(C=C, penalty='l2',\n                                                    solver='saga',\n                                                    multi_class='multinomial',\n                                                    max_iter=10000),\n    'L2 logistic (OvR)': LogisticRegression(C=C, penalty='l2',\n                                            solver='saga',\n                                            multi_class='ovr',\n                                            max_iter=10000),\n    'Linear SVC': SVC(kernel='linear', C=C, probability=True,\n                      random_state=0),\n    'GPC': GaussianProcessClassifier(kernel)\n}\n\nn_classifiers = len(classifiers)\n\nplt.figure(figsize=(3 * 2, n_classifiers * 2))\nplt.subplots_adjust(bottom=.2, top=.95)\n\nxx = np.linspace(3, 9, 100)\nyy = np.linspace(1, 5, 100).T\nxx, yy = np.meshgrid(xx, yy)\nXfull = np.c_[xx.ravel(), yy.ravel()]\n\nfor index, (name, classifier) in enumerate(classifiers.items()):\n    classifier.fit(X, y)\n\n    y_pred = classifier.predict(X)\n    accuracy = accuracy_score(y, y_pred)\n    print(\"Accuracy (train) for %s: %0.1f%% \" % (name, accuracy * 100))\n\n    # View probabilities:\n    probas = classifier.predict_proba(Xfull)\n    n_classes = np.unique(y_pred).size\n    for k in range(n_classes):\n        plt.subplot(n_classifiers, n_classes, index * n_classes + k + 1)\n        plt.title(\"Class %d\" % k)\n        if k == 0:\n            plt.ylabel(name)\n        imshow_handle = plt.imshow(probas[:, k].reshape((100, 100)),\n                                   extent=(3, 9, 1, 5), origin='lower')\n        plt.xticks(())\n        plt.yticks(())\n        idx = (y_pred == k)\n        if idx.any():\n            plt.scatter(X[idx, 0], X[idx, 1], marker='o', c='w', edgecolor='k')\n\nax = plt.axes([0.15, 0.04, 0.7, 0.05])\nplt.title(\"Probability\")\nplt.colorbar(imshow_handle, cax=ax, orientation='horizontal')\n\nplt.show()",
      "execution_count": null,
      "outputs": [
        {
          "output_type": "stream",
          "text": "\nPlot average distance from observations from the cluster centroid\nto use the Elbow Method to identify number of clusters to choose\n\nAccuracy (train) for L1 logistic: 82.7% \nAccuracy (train) for L2 logistic (Multinomial): 82.7% \nAccuracy (train) for L2 logistic (OvR): 79.3% \nAccuracy (train) for Linear SVC: 82.0% \n",
          "name": "stdout"
        }
      ]
    },
    {
      "metadata": {
        "_uuid": "9b5bef86a8db19453817ecce661079eb4cad4fa8"
      },
      "cell_type": "markdown",
      "source": " # 9- Read more\n \n you can start to learn and review your knowledge about ML with a perfect dataset and try to learn and memorize the workflow for your journey in Data science world with read more sources, here I want to give some courses, e-books and cheatsheet:\n ## 9-1 Courses\n \nThere are a lot of online courses that can help you develop your knowledge, here I have just  listed some of them:\n\n1. [Machine Learning Certification by Stanford University (Coursera)](https://www.coursera.org/learn/machine-learning/)\n\n2. [Machine Learning A-Z™: Hands-On Python & R In Data Science (Udemy)](https://www.udemy.com/machinelearning/)\n\n3. [Deep Learning Certification by Andrew Ng from deeplearning.ai (Coursera)](https://www.coursera.org/specializations/deep-learning)\n\n4. [Python for Data Science and Machine Learning Bootcamp (Udemy)](Python for Data Science and Machine Learning Bootcamp (Udemy))\n\n5. [Mathematics for Machine Learning by Imperial College London](https://www.coursera.org/specializations/mathematics-machine-learning)\n\n6. [Deep Learning A-Z™: Hands-On Artificial Neural Networks](https://www.udemy.com/deeplearning/)\n\n7. [Complete Guide to TensorFlow for Deep Learning Tutorial with Python](https://www.udemy.com/complete-guide-to-tensorflow-for-deep-learning-with-python/)\n\n8. [Data Science and Machine Learning Tutorial with Python – Hands On](https://www.udemy.com/data-science-and-machine-learning-with-python-hands-on/)\n\n9. [Machine Learning Certification by University of Washington](https://www.coursera.org/specializations/machine-learning)\n\n10. [Data Science and Machine Learning Bootcamp with R](https://www.udemy.com/data-science-and-machine-learning-bootcamp-with-r/)\n11. [Creative Applications of Deep Learning with TensorFlow](https://www.class-central.com/course/kadenze-creative-applications-of-deep-learning-with-tensorflow-6679)\n12. [Neural Networks for Machine Learning](https://www.class-central.com/mooc/398/coursera-neural-networks-for-machine-learning)\n13. [Practical Deep Learning For Coders, Part 1](https://www.class-central.com/mooc/7887/practical-deep-learning-for-coders-part-1)\n14. [Machine Learning](https://www.cs.ox.ac.uk/teaching/courses/2014-2015/ml/index.html)\n\n## 9-2 Ebooks\n\nSo you love reading , here is **10 free machine learning books**\n1. [Probability and Statistics for Programmers](http://www.greenteapress.com/thinkstats/)\n2. [Bayesian Reasoning and Machine Learning](http://web4.cs.ucl.ac.uk/staff/D.Barber/textbook/091117.pdf)\n2. [An Introduction to Statistical Learning](http://www-bcf.usc.edu/~gareth/ISL/)\n2. [Understanding Machine Learning](http://www.cs.huji.ac.il/~shais/UnderstandingMachineLearning/index.html)\n2. [A Programmer’s Guide to Data Mining](http://guidetodatamining.com/)\n2. [Mining of Massive Datasets](http://infolab.stanford.edu/~ullman/mmds/book.pdf)\n2. [A Brief Introduction to Neural Networks](http://www.dkriesel.com/_media/science/neuronalenetze-en-zeta2-2col-dkrieselcom.pdf)\n2. [Deep Learning](http://www.deeplearningbook.org/)\n2. [Natural Language Processing with Python](https://www.researchgate.net/publication/220691633_Natural_Language_Processing_with_Python)\n2. [Machine Learning Yearning](http://www.mlyearning.org/)\n\n## 9-3 Cheat Sheets\n\nData Science is an ever-growing field, there are numerous tools & techniques to remember. It is not possible for anyone to remember all the functions, operations and formulas of each concept. That’s why we have cheat sheets. But there are a plethora of cheat sheets available out there, choosing the right cheat sheet is a tough task. So, I decided to write this article.\n\nHere I have selected the cheat sheets on the following criteria: comprehensiveness, clarity, and content [26]:\n1. [Quick Guide to learn Python for Data Science ](https://github.com/mjbahmani/10-steps-to-become-a-data-scientist/blob/master/cheatsheets/Data-Science-in-Python.pdf)\n1. [Python for Data Science Cheat sheet ](https://github.com/mjbahmani/10-steps-to-become-a-data-scientist/blob/master/cheatsheets/beginners_python_cheat_sheet.pdf)\n1. [Python For Data Science Cheat Sheet NumPy](https://github.com/mjbahmani/10-steps-to-become-a-data-scientist/blob/master/cheatsheets/Numpy_Python_Cheat_Sheet.pdf)\n1. [Exploratory Data Analysis in Python]()\n1. [Data Exploration using Pandas in Python](https://github.com/mjbahmani/10-steps-to-become-a-data-scientist/blob/master/cheatsheets/Data-Exploration-in-Python.pdf)\n1. [Data Visualisation in Python](https://github.com/mjbahmani/10-steps-to-become-a-data-scientist/blob/master/cheatsheets/data-visualisation-infographics1.jpg)\n1. [Python For Data Science Cheat Sheet Bokeh](https://github.com/mjbahmani/10-steps-to-become-a-data-scientist/blob/master/cheatsheets/Python_Bokeh_Cheat_Sheet.pdf)\n1. [Cheat Sheet: Scikit Learn ](https://github.com/mjbahmani/10-steps-to-become-a-data-scientist/blob/master/cheatsheets/Scikit-Learn-Infographic.pdf)\n1. [MLalgorithms CheatSheet](https://github.com/mjbahmani/10-steps-to-become-a-data-scientist/blob/master/cheatsheets/MLalgorithms-.pdf)\n1. [Probability Basics  Cheat Sheet ](https://github.com/mjbahmani/10-steps-to-become-a-data-scientist/blob/master/cheatsheets/probability_cheatsheet.pdf)"
    },
    {
      "metadata": {
        "_uuid": "fe3d19ff691fcc7c7edf8d2cb1224e3bdeee396e"
      },
      "cell_type": "markdown",
      "source": "<a id=\"37\"></a> <br>\n# 8- conclusion\nThis kernel is a simple tutorial for machine learning with sklearn and it is not completed yet!"
    },
    {
      "metadata": {
        "_uuid": "a8424e6f84874112757040d36b93542a2e5ba8cb"
      },
      "cell_type": "markdown",
      "source": ">###### you may  be interested have a look at it: [**10-steps-to-become-a-data-scientist**](https://github.com/mjbahmani/10-steps-to-become-a-data-scientist)\n\n\n---------------------------------------------------------------------\nyou can Fork and Run this kernel on Github:\n> ###### [ GitHub](https://github.com/mjbahmani/10-steps-to-become-a-data-scientist)\n\n-------------------------------------------------------------------------------------------------------------\n\n **I hope you find this kernel helpful and some <font color=\"red\"><b>UPVOTES</b></font> would be very much appreciated**\n \n -----------"
    },
    {
      "metadata": {
        "_uuid": "1923ba01df86012077df2a2750b92ebb2adb8236"
      },
      "cell_type": "markdown",
      "source": "<a id=\"38\"></a> <br>\n# 9- References\n1. [Coursera](https://www.coursera.org/specializations/data-science-python)\n1. [GitHub](https://github.com/mjbahmani)\n###### [Go to top](#top)"
    },
    {
      "metadata": {
        "_uuid": "7f0644ae4e74da4a20cba4e9094ed2458be44361"
      },
      "cell_type": "markdown",
      "source": "#### This Kernel is not completed and will be updated soon!!!"
    }
  ],
  "metadata": {
    "kernelspec": {
      "display_name": "Python 3",
      "language": "python",
      "name": "python3"
    },
    "language_info": {
      "name": "python",
      "version": "3.6.6",
      "mimetype": "text/x-python",
      "codemirror_mode": {
        "name": "ipython",
        "version": 3
      },
      "pygments_lexer": "ipython3",
      "nbconvert_exporter": "python",
      "file_extension": ".py"
    }
  },
  "nbformat": 4,
  "nbformat_minor": 1
}